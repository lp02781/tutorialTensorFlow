{
 "cells": [
  {
   "cell_type": "markdown",
   "metadata": {
    "id": "klGNgWREsvQv"
   },
   "source": [
    "##### Copyright 2021 The TF-Agents Authors."
   ]
  },
  {
   "cell_type": "code",
   "execution_count": null,
   "metadata": {
    "cellView": "form",
    "id": "nQnmcm0oI1Q-"
   },
   "outputs": [],
   "source": [
    "#@title Licensed under the Apache License, Version 2.0 (the \"License\");\n",
    "# you may not use this file except in compliance with the License.\n",
    "# You may obtain a copy of the License at\n",
    "#\n",
    "# https://www.apache.org/licenses/LICENSE-2.0\n",
    "#\n",
    "# Unless required by applicable law or agreed to in writing, software\n",
    "# distributed under the License is distributed on an \"AS IS\" BASIS,\n",
    "# WITHOUT WARRANTIES OR CONDITIONS OF ANY KIND, either express or implied.\n",
    "# See the License for the specific language governing permissions and\n",
    "# limitations under the License."
   ]
  },
  {
   "cell_type": "markdown",
   "metadata": {
    "id": "pmDI-h7cI0tI"
   },
   "source": [
    "# Train a Deep Q Network with TF-Agents\n",
    "\n",
    "<table class=\"tfo-notebook-buttons\" align=\"left\">\n",
    "  <td>\n",
    "    <a target=\"_blank\" href=\"https://www.tensorflow.org/agents/tutorials/1_dqn_tutorial\">\n",
    "    <img src=\"https://www.tensorflow.org/images/tf_logo_32px.png\" />\n",
    "    View on TensorFlow.org</a>\n",
    "  </td>\n",
    "  <td>\n",
    "    <a target=\"_blank\" href=\"https://colab.research.google.com/github/tensorflow/agents/blob/master/docs/tutorials/1_dqn_tutorial.ipynb\">\n",
    "    <img src=\"https://www.tensorflow.org/images/colab_logo_32px.png\" />\n",
    "    Run in Google Colab</a>\n",
    "  </td>\n",
    "  <td>\n",
    "    <a target=\"_blank\" href=\"https://github.com/tensorflow/agents/blob/master/docs/tutorials/1_dqn_tutorial.ipynb\">\n",
    "    <img src=\"https://www.tensorflow.org/images/GitHub-Mark-32px.png\" />\n",
    "    View source on GitHub</a>\n",
    "  </td>\n",
    "  <td>\n",
    "    <a href=\"https://storage.googleapis.com/tensorflow_docs/agents/docs/tutorials/1_dqn_tutorial.ipynb\"><img src=\"https://www.tensorflow.org/images/download_logo_32px.png\" />Download notebook</a>\n",
    "  </td>\n",
    "</table>"
   ]
  },
  {
   "cell_type": "markdown",
   "metadata": {
    "id": "lsaQlK8fFQqH"
   },
   "source": [
    "## Introduction\n"
   ]
  },
  {
   "cell_type": "markdown",
   "metadata": {
    "id": "cKOCZlhUgXVK"
   },
   "source": [
    "This example shows how to train a [DQN (Deep Q Networks)](https://storage.googleapis.com/deepmind-media/dqn/DQNNaturePaper.pdf)  agent on the Cartpole environment using the TF-Agents library.\n",
    "\n",
    "![Cartpole environment](https://raw.githubusercontent.com/tensorflow/agents/master/docs/tutorials/images/cartpole.png)\n",
    "\n",
    "It will walk you through all the components in a Reinforcement Learning (RL) pipeline for training, evaluation and data collection.\n",
    "\n",
    "\n",
    "To run this code live, click the 'Run in Google Colab' link above.\n"
   ]
  },
  {
   "cell_type": "markdown",
   "metadata": {
    "id": "1u9QVVsShC9X"
   },
   "source": [
    "## Setup"
   ]
  },
  {
   "cell_type": "markdown",
   "metadata": {
    "id": "kNrNXKI7bINP"
   },
   "source": [
    "If you haven't installed the following dependencies, run:"
   ]
  },
  {
   "cell_type": "code",
   "execution_count": null,
   "metadata": {
    "id": "KEHR2Ui-lo8O"
   },
   "outputs": [],
   "source": [
    "!sudo apt-get update\n",
    "!sudo apt-get install -y xvfb ffmpeg\n",
    "!pip install 'imageio==2.4.0'\n",
    "!pip install pyvirtualdisplay\n",
    "!pip install tf-agents"
   ]
  },
  {
   "cell_type": "code",
   "execution_count": 1,
   "metadata": {
    "id": "sMitx5qSgJk1"
   },
   "outputs": [
    {
     "name": "stderr",
     "output_type": "stream",
     "text": [
      "2021-07-27 01:10:24.581509: I tensorflow/stream_executor/platform/default/dso_loader.cc:53] Successfully opened dynamic library libcudart.so.11.0\n"
     ]
    }
   ],
   "source": [
    "from __future__ import absolute_import, division, print_function\n",
    "\n",
    "import base64\n",
    "import imageio\n",
    "import IPython\n",
    "import matplotlib\n",
    "import matplotlib.pyplot as plt\n",
    "import numpy as np\n",
    "import PIL.Image\n",
    "import pyvirtualdisplay\n",
    "\n",
    "import tensorflow as tf\n",
    "\n",
    "from tf_agents.agents.dqn import dqn_agent\n",
    "from tf_agents.environments import suite_gym\n",
    "from tf_agents.environments import tf_py_environment\n",
    "from tf_agents.eval import metric_utils\n",
    "from tf_agents.metrics import tf_metrics\n",
    "from tf_agents.networks import sequential\n",
    "from tf_agents.policies import random_tf_policy\n",
    "from tf_agents.replay_buffers import tf_uniform_replay_buffer\n",
    "from tf_agents.trajectories import trajectory\n",
    "from tf_agents.specs import tensor_spec\n",
    "from tf_agents.utils import common"
   ]
  },
  {
   "cell_type": "code",
   "execution_count": 2,
   "metadata": {
    "id": "J6HsdS5GbSjd"
   },
   "outputs": [],
   "source": [
    "# Set up a virtual display for rendering OpenAI gym environments.\n",
    "display = pyvirtualdisplay.Display(visible=0, size=(1400, 900)).start()"
   ]
  },
  {
   "cell_type": "code",
   "execution_count": 3,
   "metadata": {
    "id": "NspmzG4nP3b9"
   },
   "outputs": [
    {
     "data": {
      "text/plain": [
       "'2.5.0'"
      ]
     },
     "execution_count": 3,
     "metadata": {},
     "output_type": "execute_result"
    }
   ],
   "source": [
    "tf.version.VERSION"
   ]
  },
  {
   "cell_type": "markdown",
   "metadata": {
    "id": "LmC0NDhdLIKY"
   },
   "source": [
    "## Hyperparameters"
   ]
  },
  {
   "cell_type": "code",
   "execution_count": 4,
   "metadata": {
    "id": "HC1kNrOsLSIZ"
   },
   "outputs": [],
   "source": [
    "num_iterations = 20000 # @param {type:\"integer\"}\n",
    "\n",
    "initial_collect_steps = 100  # @param {type:\"integer\"} \n",
    "collect_steps_per_iteration = 1  # @param {type:\"integer\"}\n",
    "replay_buffer_max_length = 100000  # @param {type:\"integer\"}\n",
    "\n",
    "batch_size = 64  # @param {type:\"integer\"}\n",
    "learning_rate = 1e-3  # @param {type:\"number\"}\n",
    "log_interval = 200  # @param {type:\"integer\"}\n",
    "\n",
    "num_eval_episodes = 10  # @param {type:\"integer\"}\n",
    "eval_interval = 1000  # @param {type:\"integer\"}"
   ]
  },
  {
   "cell_type": "markdown",
   "metadata": {
    "id": "VMsJC3DEgI0x"
   },
   "source": [
    "## Environment\n",
    "\n",
    "In Reinforcement Learning (RL), an environment represents the task or problem to be solved. Standard environments can be created in TF-Agents using `tf_agents.environments` suites. TF-Agents has suites for loading environments from sources such as the OpenAI Gym, Atari, and DM Control.\n",
    "\n",
    "Load the CartPole environment from the OpenAI Gym suite. "
   ]
  },
  {
   "cell_type": "code",
   "execution_count": 5,
   "metadata": {
    "id": "pYEz-S9gEv2-"
   },
   "outputs": [],
   "source": [
    "env_name = 'CartPole-v0'\n",
    "env = suite_gym.load(env_name)"
   ]
  },
  {
   "cell_type": "markdown",
   "metadata": {
    "id": "IIHYVBkuvPNw"
   },
   "source": [
    "You can render this environment to see how it looks. A free-swinging pole is attached to a cart.  The goal is to move the cart right or left in order to keep the pole pointing up."
   ]
  },
  {
   "cell_type": "code",
   "execution_count": 6,
   "metadata": {
    "id": "RlO7WIQHu_7D"
   },
   "outputs": [
    {
     "data": {
      "image/png": "[encoded data removed]",
      "text/plain": [
       "<PIL.Image.Image image mode=RGB size=600x400 at 0x7FE709958C10>"
      ]
     },
     "execution_count": 6,
     "metadata": {},
     "output_type": "execute_result"
    }
   ],
   "source": [
    "#@test {\"skip\": true}\n",
    "env.reset()\n",
    "PIL.Image.fromarray(env.render())"
   ]
  },
  {
   "cell_type": "markdown",
   "metadata": {
    "id": "B9_lskPOey18"
   },
   "source": [
    "The `environment.step` method takes an `action` in the environment and returns a `TimeStep` tuple containing the next observation of the environment and the reward for the action.\n",
    "\n",
    "The `time_step_spec()` method returns the specification for the `TimeStep` tuple. Its `observation` attribute shows the shape of observations, the data types, and the ranges of allowed values. The `reward` attribute shows the same details for the reward.\n"
   ]
  },
  {
   "cell_type": "code",
   "execution_count": 7,
   "metadata": {
    "id": "exDv57iHfwQV"
   },
   "outputs": [
    {
     "name": "stdout",
     "output_type": "stream",
     "text": [
      "Observation Spec:\n",
      "BoundedArraySpec(shape=(4,), dtype=dtype('float32'), name='observation', minimum=[-4.8000002e+00 -3.4028235e+38 -4.1887903e-01 -3.4028235e+38], maximum=[4.8000002e+00 3.4028235e+38 4.1887903e-01 3.4028235e+38])\n"
     ]
    }
   ],
   "source": [
    "print('Observation Spec:')\n",
    "print(env.time_step_spec().observation)"
   ]
  },
  {
   "cell_type": "code",
   "execution_count": 8,
   "metadata": {
    "id": "UxiSyCbBUQPi"
   },
   "outputs": [
    {
     "name": "stdout",
     "output_type": "stream",
     "text": [
      "Reward Spec:\n",
      "ArraySpec(shape=(), dtype=dtype('float32'), name='reward')\n"
     ]
    }
   ],
   "source": [
    "print('Reward Spec:')\n",
    "print(env.time_step_spec().reward)"
   ]
  },
  {
   "cell_type": "markdown",
   "metadata": {
    "id": "b_lHcIcqUaqB"
   },
   "source": [
    "The `action_spec()` method returns the shape, data types, and allowed values of valid actions."
   ]
  },
  {
   "cell_type": "code",
   "execution_count": 9,
   "metadata": {
    "id": "bttJ4uxZUQBr"
   },
   "outputs": [
    {
     "name": "stdout",
     "output_type": "stream",
     "text": [
      "Action Spec:\n",
      "BoundedArraySpec(shape=(), dtype=dtype('int64'), name='action', minimum=0, maximum=1)\n"
     ]
    }
   ],
   "source": [
    "print('Action Spec:')\n",
    "print(env.action_spec())"
   ]
  },
  {
   "cell_type": "markdown",
   "metadata": {
    "id": "eJCgJnx3g0yY"
   },
   "source": [
    "In the Cartpole environment:\n",
    "\n",
    "-   `observation` is an array of 4 floats: \n",
    "    -   the position and velocity of the cart\n",
    "    -   the angular position and velocity of the pole \n",
    "-   `reward` is a scalar float value\n",
    "-   `action` is a scalar integer with only two possible values:\n",
    "    -   `0` — \"move left\"\n",
    "    -   `1` — \"move right\"\n"
   ]
  },
  {
   "cell_type": "code",
   "execution_count": 10,
   "metadata": {
    "id": "V2UGR5t_iZX-"
   },
   "outputs": [
    {
     "name": "stdout",
     "output_type": "stream",
     "text": [
      "Time step:\n",
      "TimeStep(\n",
      "{'discount': array(1., dtype=float32),\n",
      " 'observation': array([-0.00085197,  0.01001714, -0.04723461,  0.03116541], dtype=float32),\n",
      " 'reward': array(0., dtype=float32),\n",
      " 'step_type': array(0, dtype=int32)})\n",
      "Next time step:\n",
      "TimeStep(\n",
      "{'discount': array(1., dtype=float32),\n",
      " 'observation': array([-0.00065162,  0.20578352, -0.04661131, -0.27603844], dtype=float32),\n",
      " 'reward': array(1., dtype=float32),\n",
      " 'step_type': array(1, dtype=int32)})\n"
     ]
    }
   ],
   "source": [
    "time_step = env.reset()\n",
    "print('Time step:')\n",
    "print(time_step)\n",
    "\n",
    "action = np.array(1, dtype=np.int32)\n",
    "\n",
    "next_time_step = env.step(action)\n",
    "print('Next time step:')\n",
    "print(next_time_step)"
   ]
  },
  {
   "cell_type": "markdown",
   "metadata": {
    "id": "4JSc9GviWUBK"
   },
   "source": [
    "Usually two environments are instantiated: one for training and one for evaluation. "
   ]
  },
  {
   "cell_type": "code",
   "execution_count": 11,
   "metadata": {
    "id": "N7brXNIGWXjC"
   },
   "outputs": [],
   "source": [
    "train_py_env = suite_gym.load(env_name)\n",
    "eval_py_env = suite_gym.load(env_name)"
   ]
  },
  {
   "cell_type": "markdown",
   "metadata": {
    "id": "zuUqXAVmecTU"
   },
   "source": [
    "The Cartpole environment, like most environments, is written in pure Python. This is converted to TensorFlow using the `TFPyEnvironment` wrapper.\n",
    "\n",
    "The original environment's API uses Numpy arrays. The `TFPyEnvironment` converts these to `Tensors` to make it compatible with Tensorflow agents and policies.\n"
   ]
  },
  {
   "cell_type": "code",
   "execution_count": 12,
   "metadata": {
    "id": "Xp-Y4mD6eDhF"
   },
   "outputs": [],
   "source": [
    "train_env = tf_py_environment.TFPyEnvironment(train_py_env)\n",
    "eval_env = tf_py_environment.TFPyEnvironment(eval_py_env)"
   ]
  },
  {
   "cell_type": "markdown",
   "metadata": {
    "id": "E9lW_OZYFR8A"
   },
   "source": [
    "## Agent\n",
    "\n",
    "The algorithm used to solve an RL problem is represented by an `Agent`. TF-Agents provides standard implementations of a variety of `Agents`, including:\n",
    "\n",
    "-   [DQN](https://storage.googleapis.com/deepmind-media/dqn/DQNNaturePaper.pdf) (used in this tutorial)\n",
    "-   [REINFORCE](https://www-anw.cs.umass.edu/~barto/courses/cs687/williams92simple.pdf)\n",
    "-   [DDPG](https://arxiv.org/pdf/1509.02971.pdf)\n",
    "-   [TD3](https://arxiv.org/pdf/1802.09477.pdf)\n",
    "-   [PPO](https://arxiv.org/abs/1707.06347)\n",
    "-   [SAC](https://arxiv.org/abs/1801.01290).\n",
    "\n",
    "The DQN agent can be used in any environment which has a discrete action space.\n",
    "\n",
    "At the heart of a DQN Agent is a `QNetwork`, a neural network model that can learn to predict `QValues` (expected returns) for all actions, given an observation from the environment.\n",
    "\n",
    "We will use `tf_agents.networks.` to create a `QNetwork`. The network will consist of a sequence of `tf.keras.layers.Dense` layers, where the final layer will have 1 output for each possible action."
   ]
  },
  {
   "cell_type": "code",
   "execution_count": 13,
   "metadata": {
    "id": "TgkdEPg_muzV"
   },
   "outputs": [],
   "source": [
    "fc_layer_params = (100, 50)\n",
    "action_tensor_spec = tensor_spec.from_spec(env.action_spec())\n",
    "num_actions = action_tensor_spec.maximum - action_tensor_spec.minimum + 1\n",
    "\n",
    "# Define a helper function to create Dense layers configured with the right\n",
    "# activation and kernel initializer.\n",
    "def dense_layer(num_units):\n",
    "  return tf.keras.layers.Dense(\n",
    "      num_units,\n",
    "      activation=tf.keras.activations.relu,\n",
    "      kernel_initializer=tf.keras.initializers.VarianceScaling(\n",
    "          scale=2.0, mode='fan_in', distribution='truncated_normal'))\n",
    "\n",
    "# QNetwork consists of a sequence of Dense layers followed by a dense layer\n",
    "# with `num_actions` units to generate one q_value per available action as\n",
    "# it's output.\n",
    "dense_layers = [dense_layer(num_units) for num_units in fc_layer_params]\n",
    "q_values_layer = tf.keras.layers.Dense(\n",
    "    num_actions,\n",
    "    activation=None,\n",
    "    kernel_initializer=tf.keras.initializers.RandomUniform(\n",
    "        minval=-0.03, maxval=0.03),\n",
    "    bias_initializer=tf.keras.initializers.Constant(-0.2))\n",
    "q_net = sequential.Sequential(dense_layers + [q_values_layer])"
   ]
  },
  {
   "cell_type": "markdown",
   "metadata": {
    "id": "z62u55hSmviJ"
   },
   "source": [
    "Now use `tf_agents.agents.dqn.dqn_agent` to instantiate a `DqnAgent`. In addition to the `time_step_spec`, `action_spec` and the QNetwork, the agent constructor also requires an optimizer (in this case, `AdamOptimizer`), a loss function, and an integer step counter."
   ]
  },
  {
   "cell_type": "code",
   "execution_count": 14,
   "metadata": {
    "id": "jbY4yrjTEyc9"
   },
   "outputs": [
    {
     "name": "stderr",
     "output_type": "stream",
     "text": [
      "2021-07-27 01:12:04.448460: I tensorflow/stream_executor/platform/default/dso_loader.cc:53] Successfully opened dynamic library libcuda.so.1\n",
      "2021-07-27 01:12:04.728023: I tensorflow/stream_executor/cuda/cuda_gpu_executor.cc:937] successful NUMA node read from SysFS had negative value (-1), but there must be at least one NUMA node, so returning NUMA node zero\n",
      "2021-07-27 01:12:04.729247: I tensorflow/core/common_runtime/gpu/gpu_device.cc:1733] Found device 0 with properties: \n",
      "pciBusID: 0000:01:00.0 name: NVIDIA GeForce MX130 computeCapability: 5.0\n",
      "coreClock: 1.189GHz coreCount: 3 deviceMemorySize: 1.96GiB deviceMemoryBandwidth: 37.33GiB/s\n",
      "2021-07-27 01:12:04.729388: I tensorflow/stream_executor/platform/default/dso_loader.cc:53] Successfully opened dynamic library libcudart.so.11.0\n",
      "2021-07-27 01:12:04.939060: I tensorflow/stream_executor/platform/default/dso_loader.cc:53] Successfully opened dynamic library libcublas.so.11\n",
      "2021-07-27 01:12:04.939415: I tensorflow/stream_executor/platform/default/dso_loader.cc:53] Successfully opened dynamic library libcublasLt.so.11\n",
      "2021-07-27 01:12:05.062612: I tensorflow/stream_executor/platform/default/dso_loader.cc:53] Successfully opened dynamic library libcufft.so.10\n",
      "2021-07-27 01:12:05.130763: I tensorflow/stream_executor/platform/default/dso_loader.cc:53] Successfully opened dynamic library libcurand.so.10\n",
      "2021-07-27 01:12:05.131603: W tensorflow/stream_executor/platform/default/dso_loader.cc:64] Could not load dynamic library 'libcusolver.so.11'; dlerror: libcusolver.so.11: cannot open shared object file: No such file or directory; LD_LIBRARY_PATH: /usr/local/lib/python3.8/dist-packages/cv2/../../../../lib:/home/mfikih15/mpc_minicar/devel/lib:/opt/ros/noetic/lib\n",
      "2021-07-27 01:12:05.200113: I tensorflow/stream_executor/platform/default/dso_loader.cc:53] Successfully opened dynamic library libcusparse.so.11\n",
      "2021-07-27 01:12:05.226675: I tensorflow/stream_executor/platform/default/dso_loader.cc:53] Successfully opened dynamic library libcudnn.so.8\n",
      "2021-07-27 01:12:05.226769: W tensorflow/core/common_runtime/gpu/gpu_device.cc:1766] Cannot dlopen some GPU libraries. Please make sure the missing libraries mentioned above are installed properly if you would like to use GPU. Follow the guide at https://www.tensorflow.org/install/gpu for how to download and setup the required libraries for your platform.\n",
      "Skipping registering GPU devices...\n",
      "2021-07-27 01:12:05.227742: I tensorflow/core/platform/cpu_feature_guard.cc:142] This TensorFlow binary is optimized with oneAPI Deep Neural Network Library (oneDNN) to use the following CPU instructions in performance-critical operations:  AVX2 FMA\n",
      "To enable them in other operations, rebuild TensorFlow with the appropriate compiler flags.\n",
      "2021-07-27 01:12:05.229000: I tensorflow/core/common_runtime/gpu/gpu_device.cc:1258] Device interconnect StreamExecutor with strength 1 edge matrix:\n",
      "2021-07-27 01:12:05.229052: I tensorflow/core/common_runtime/gpu/gpu_device.cc:1264]      \n"
     ]
    }
   ],
   "source": [
    "optimizer = tf.keras.optimizers.Adam(learning_rate=learning_rate)\n",
    "\n",
    "train_step_counter = tf.Variable(0)\n",
    "\n",
    "agent = dqn_agent.DqnAgent(\n",
    "    train_env.time_step_spec(),\n",
    "    train_env.action_spec(),\n",
    "    q_network=q_net,\n",
    "    optimizer=optimizer,\n",
    "    td_errors_loss_fn=common.element_wise_squared_loss,\n",
    "    train_step_counter=train_step_counter)\n",
    "\n",
    "agent.initialize()"
   ]
  },
  {
   "cell_type": "markdown",
   "metadata": {
    "id": "I0KLrEPwkn5x"
   },
   "source": [
    "## Policies\n",
    "\n",
    "A policy defines the way an agent acts in an environment. Typically, the goal of reinforcement learning is to train the underlying model until the policy produces the desired outcome.\n",
    "\n",
    "In this tutorial:\n",
    "\n",
    "-   The desired outcome is keeping the pole balanced upright over the cart.\n",
    "-   The policy returns an action (left or right) for each `time_step` observation.\n",
    "\n",
    "Agents contain two policies: \n",
    "\n",
    "-   `agent.policy` — The main policy that is used for evaluation and deployment.\n",
    "-   `agent.collect_policy` — A second policy that is used for data collection.\n"
   ]
  },
  {
   "cell_type": "code",
   "execution_count": 15,
   "metadata": {
    "id": "BwY7StuMkuV4"
   },
   "outputs": [],
   "source": [
    "eval_policy = agent.policy\n",
    "collect_policy = agent.collect_policy"
   ]
  },
  {
   "cell_type": "markdown",
   "metadata": {
    "id": "2Qs1Fl3dV0ae"
   },
   "source": [
    "Policies can be created independently of agents. For example, use `tf_agents.policies.random_tf_policy` to create a policy which will randomly select an action for each `time_step`."
   ]
  },
  {
   "cell_type": "code",
   "execution_count": 16,
   "metadata": {
    "id": "HE37-UCIrE69"
   },
   "outputs": [],
   "source": [
    "random_policy = random_tf_policy.RandomTFPolicy(train_env.time_step_spec(),\n",
    "                                                train_env.action_spec())"
   ]
  },
  {
   "cell_type": "markdown",
   "metadata": {
    "id": "dOlnlRRsUbxP"
   },
   "source": [
    "To get an action from a policy, call the `policy.action(time_step)` method. The `time_step` contains the observation from the environment. This method returns a `PolicyStep`, which is a named tuple with three components:\n",
    "\n",
    "-   `action` — the action to be taken (in this case, `0` or `1`)\n",
    "-   `state` — used for stateful (that is, RNN-based) policies\n",
    "-   `info` — auxiliary data, such as log probabilities of actions"
   ]
  },
  {
   "cell_type": "code",
   "execution_count": 17,
   "metadata": {
    "id": "5gCcpXswVAxk"
   },
   "outputs": [],
   "source": [
    "example_environment = tf_py_environment.TFPyEnvironment(\n",
    "    suite_gym.load('CartPole-v0'))"
   ]
  },
  {
   "cell_type": "code",
   "execution_count": 18,
   "metadata": {
    "id": "D4DHZtq3Ndis"
   },
   "outputs": [],
   "source": [
    "time_step = example_environment.reset()"
   ]
  },
  {
   "cell_type": "code",
   "execution_count": 19,
   "metadata": {
    "id": "PRFqAUzpNaAW"
   },
   "outputs": [
    {
     "data": {
      "text/plain": [
       "PolicyStep(action=<tf.Tensor: shape=(1,), dtype=int64, numpy=array([0])>, state=(), info=())"
      ]
     },
     "execution_count": 19,
     "metadata": {},
     "output_type": "execute_result"
    }
   ],
   "source": [
    "random_policy.action(time_step)"
   ]
  },
  {
   "cell_type": "markdown",
   "metadata": {
    "id": "94rCXQtbUbXv"
   },
   "source": [
    "## Metrics and Evaluation\n",
    "\n",
    "The most common metric used to evaluate a policy is the average return. The return is the sum of rewards obtained while running a policy in an environment for an episode. Several episodes are run, creating an average return.\n",
    "\n",
    "The following function computes the average return of a policy, given the policy, environment, and a number of episodes.\n"
   ]
  },
  {
   "cell_type": "code",
   "execution_count": 20,
   "metadata": {
    "id": "bitzHo5_UbXy"
   },
   "outputs": [],
   "source": [
    "#@test {\"skip\": true}\n",
    "def compute_avg_return(environment, policy, num_episodes=10):\n",
    "\n",
    "  total_return = 0.0\n",
    "  for _ in range(num_episodes):\n",
    "\n",
    "    time_step = environment.reset()\n",
    "    episode_return = 0.0\n",
    "\n",
    "    while not time_step.is_last():\n",
    "      action_step = policy.action(time_step)\n",
    "      time_step = environment.step(action_step.action)\n",
    "      episode_return += time_step.reward\n",
    "    total_return += episode_return\n",
    "\n",
    "  avg_return = total_return / num_episodes\n",
    "  return avg_return.numpy()[0]\n",
    "\n",
    "\n",
    "# See also the metrics module for standard implementations of different metrics.\n",
    "# https://github.com/tensorflow/agents/tree/master/tf_agents/metrics"
   ]
  },
  {
   "cell_type": "markdown",
   "metadata": {
    "id": "_snCVvq5Z8lJ"
   },
   "source": [
    "Running this computation on the `random_policy` shows a baseline performance in the environment."
   ]
  },
  {
   "cell_type": "code",
   "execution_count": 21,
   "metadata": {
    "id": "9bgU6Q6BZ8Bp"
   },
   "outputs": [
    {
     "data": {
      "text/plain": [
       "24.8"
      ]
     },
     "execution_count": 21,
     "metadata": {},
     "output_type": "execute_result"
    }
   ],
   "source": [
    "compute_avg_return(eval_env, random_policy, num_eval_episodes)"
   ]
  },
  {
   "cell_type": "markdown",
   "metadata": {
    "id": "NLva6g2jdWgr"
   },
   "source": [
    "## Replay Buffer\n",
    "\n",
    "The replay buffer keeps track of data collected from the environment. This tutorial uses `tf_agents.replay_buffers.tf_uniform_replay_buffer.TFUniformReplayBuffer`, as it is the most common. \n",
    "\n",
    "The constructor requires the specs for the data it will be collecting. This is available from the agent using the `collect_data_spec` method. The batch size and maximum buffer length are also required.\n"
   ]
  },
  {
   "cell_type": "code",
   "execution_count": 22,
   "metadata": {
    "id": "vX2zGUWJGWAl"
   },
   "outputs": [],
   "source": [
    "replay_buffer = tf_uniform_replay_buffer.TFUniformReplayBuffer(\n",
    "    data_spec=agent.collect_data_spec,\n",
    "    batch_size=train_env.batch_size,\n",
    "    max_length=replay_buffer_max_length)"
   ]
  },
  {
   "cell_type": "markdown",
   "metadata": {
    "id": "ZGNTDJpZs4NN"
   },
   "source": [
    "For most agents, `collect_data_spec` is a named tuple called `Trajectory`, containing the specs for observations, actions, rewards, and other items."
   ]
  },
  {
   "cell_type": "code",
   "execution_count": 23,
   "metadata": {
    "id": "_IZ-3HcqgE1z"
   },
   "outputs": [
    {
     "data": {
      "text/plain": [
       "Trajectory(\n",
       "{'action': BoundedTensorSpec(shape=(), dtype=tf.int64, name='action', minimum=array(0), maximum=array(1)),\n",
       " 'discount': BoundedTensorSpec(shape=(), dtype=tf.float32, name='discount', minimum=array(0., dtype=float32), maximum=array(1., dtype=float32)),\n",
       " 'next_step_type': TensorSpec(shape=(), dtype=tf.int32, name='step_type'),\n",
       " 'observation': BoundedTensorSpec(shape=(4,), dtype=tf.float32, name='observation', minimum=array([-4.8000002e+00, -3.4028235e+38, -4.1887903e-01, -3.4028235e+38],\n",
       "      dtype=float32), maximum=array([4.8000002e+00, 3.4028235e+38, 4.1887903e-01, 3.4028235e+38],\n",
       "      dtype=float32)),\n",
       " 'policy_info': (),\n",
       " 'reward': TensorSpec(shape=(), dtype=tf.float32, name='reward'),\n",
       " 'step_type': TensorSpec(shape=(), dtype=tf.int32, name='step_type')})"
      ]
     },
     "execution_count": 23,
     "metadata": {},
     "output_type": "execute_result"
    }
   ],
   "source": [
    "agent.collect_data_spec"
   ]
  },
  {
   "cell_type": "code",
   "execution_count": 24,
   "metadata": {
    "id": "sy6g1tGcfRlw"
   },
   "outputs": [
    {
     "data": {
      "text/plain": [
       "('step_type',\n",
       " 'observation',\n",
       " 'action',\n",
       " 'policy_info',\n",
       " 'next_step_type',\n",
       " 'reward',\n",
       " 'discount')"
      ]
     },
     "execution_count": 24,
     "metadata": {},
     "output_type": "execute_result"
    }
   ],
   "source": [
    "agent.collect_data_spec._fields"
   ]
  },
  {
   "cell_type": "markdown",
   "metadata": {
    "id": "rVD5nQ9ZGo8_"
   },
   "source": [
    "## Data Collection\n",
    "\n",
    "Now execute the random policy in the environment for a few steps, recording the data in the replay buffer."
   ]
  },
  {
   "cell_type": "code",
   "execution_count": 25,
   "metadata": {
    "id": "wr1KSAEGG4h9"
   },
   "outputs": [],
   "source": [
    "#@test {\"skip\": true}\n",
    "def collect_step(environment, policy, buffer):\n",
    "  time_step = environment.current_time_step()\n",
    "  action_step = policy.action(time_step)\n",
    "  next_time_step = environment.step(action_step.action)\n",
    "  traj = trajectory.from_transition(time_step, action_step, next_time_step)\n",
    "\n",
    "  # Add trajectory to the replay buffer\n",
    "  buffer.add_batch(traj)\n",
    "\n",
    "def collect_data(env, policy, buffer, steps):\n",
    "  for _ in range(steps):\n",
    "    collect_step(env, policy, buffer)\n",
    "\n",
    "collect_data(train_env, random_policy, replay_buffer, initial_collect_steps)\n",
    "\n",
    "# This loop is so common in RL, that we provide standard implementations. \n",
    "# For more details see tutorial 4 or the drivers module.\n",
    "# https://github.com/tensorflow/agents/blob/master/docs/tutorials/4_drivers_tutorial.ipynb \n",
    "# https://www.tensorflow.org/agents/api_docs/python/tf_agents/drivers"
   ]
  },
  {
   "cell_type": "markdown",
   "metadata": {
    "id": "84z5pQJdoKxo"
   },
   "source": [
    "The replay buffer is now a collection of Trajectories."
   ]
  },
  {
   "cell_type": "code",
   "execution_count": 26,
   "metadata": {
    "id": "4wZnLu2ViO4E"
   },
   "outputs": [],
   "source": [
    "# For the curious:\n",
    "# Uncomment to peel one of these off and inspect it.\n",
    "# iter(replay_buffer.as_dataset()).next()"
   ]
  },
  {
   "cell_type": "markdown",
   "metadata": {
    "id": "TujU-PMUsKjS"
   },
   "source": [
    "The agent needs access to the replay buffer. This is provided by creating an iterable `tf.data.Dataset` pipeline which will feed data to the agent.\n",
    "\n",
    "Each row of the replay buffer only stores a single observation step. But since the DQN Agent needs both the current and next observation to compute the loss, the dataset pipeline will sample two adjacent rows for each item in the batch (`num_steps=2`).\n",
    "\n",
    "This dataset is also optimized by running parallel calls and prefetching data."
   ]
  },
  {
   "cell_type": "code",
   "execution_count": 27,
   "metadata": {
    "id": "ba7bilizt_qW"
   },
   "outputs": [
    {
     "name": "stdout",
     "output_type": "stream",
     "text": [
      "WARNING:tensorflow:From /home/mfikih15/.local/lib/python3.8/site-packages/tensorflow/python/autograph/impl/api.py:382: ReplayBuffer.get_next (from tf_agents.replay_buffers.replay_buffer) is deprecated and will be removed in a future version.\n",
      "Instructions for updating:\n",
      "Use `as_dataset(..., single_deterministic_pass=False) instead.\n"
     ]
    },
    {
     "data": {
      "text/plain": [
       "<PrefetchDataset shapes: (Trajectory(\n",
       "{action: (64, 2),\n",
       " discount: (64, 2),\n",
       " next_step_type: (64, 2),\n",
       " observation: (64, 2, 4),\n",
       " policy_info: (),\n",
       " reward: (64, 2),\n",
       " step_type: (64, 2)}), BufferInfo(ids=(64, 2), probabilities=(64,))), types: (Trajectory(\n",
       "{action: tf.int64,\n",
       " discount: tf.float32,\n",
       " next_step_type: tf.int32,\n",
       " observation: tf.float32,\n",
       " policy_info: (),\n",
       " reward: tf.float32,\n",
       " step_type: tf.int32}), BufferInfo(ids=tf.int64, probabilities=tf.float32))>"
      ]
     },
     "execution_count": 27,
     "metadata": {},
     "output_type": "execute_result"
    }
   ],
   "source": [
    "# Dataset generates trajectories with shape [Bx2x...]\n",
    "dataset = replay_buffer.as_dataset(\n",
    "    num_parallel_calls=3, \n",
    "    sample_batch_size=batch_size, \n",
    "    num_steps=2).prefetch(3)\n",
    "\n",
    "\n",
    "dataset"
   ]
  },
  {
   "cell_type": "code",
   "execution_count": 28,
   "metadata": {
    "id": "K13AST-2ppOq"
   },
   "outputs": [
    {
     "name": "stderr",
     "output_type": "stream",
     "text": [
      "2021-07-27 01:12:41.767858: I tensorflow/compiler/mlir/mlir_graph_optimization_pass.cc:176] None of the MLIR Optimization Passes are enabled (registered 2)\n",
      "2021-07-27 01:12:41.790336: I tensorflow/core/platform/profile_utils/cpu_utils.cc:114] CPU Frequency: 1999965000 Hz\n"
     ]
    },
    {
     "name": "stdout",
     "output_type": "stream",
     "text": [
      "<tensorflow.python.data.ops.iterator_ops.OwnedIterator object at 0x7fe65c157160>\n"
     ]
    }
   ],
   "source": [
    "iterator = iter(dataset)\n",
    "print(iterator)"
   ]
  },
  {
   "cell_type": "code",
   "execution_count": 29,
   "metadata": {
    "id": "Th5w5Sff0b16"
   },
   "outputs": [],
   "source": [
    "# For the curious:\n",
    "# Uncomment to see what the dataset iterator is feeding to the agent.\n",
    "# Compare this representation of replay data \n",
    "# to the collection of individual trajectories shown earlier.\n",
    "\n",
    "# iterator.next()"
   ]
  },
  {
   "cell_type": "markdown",
   "metadata": {
    "id": "hBc9lj9VWWtZ"
   },
   "source": [
    "## Training the agent\n",
    "\n",
    "Two things must happen during the training loop:\n",
    "\n",
    "-   collect data from the environment\n",
    "-   use that data to train the agent's neural network(s)\n",
    "\n",
    "This example also periodicially evaluates the policy and prints the current score.\n",
    "\n",
    "The following will take ~5 minutes to run."
   ]
  },
  {
   "cell_type": "code",
   "execution_count": 30,
   "metadata": {
    "id": "0pTbJ3PeyF-u"
   },
   "outputs": [
    {
     "name": "stdout",
     "output_type": "stream",
     "text": [
      "WARNING:tensorflow:From /home/mfikih15/.local/lib/python3.8/site-packages/tensorflow/python/util/dispatch.py:206: calling foldr_v2 (from tensorflow.python.ops.functional_ops) with back_prop=False is deprecated and will be removed in a future version.\n",
      "Instructions for updating:\n",
      "back_prop=False is deprecated. Consider using tf.stop_gradient instead.\n",
      "Instead of:\n",
      "results = tf.foldr(fn, elems, back_prop=False)\n",
      "Use:\n",
      "results = tf.nest.map_structure(tf.stop_gradient, tf.foldr(fn, elems))\n",
      "step = 200: loss = 91.65414428710938\n",
      "step = 400: loss = 26.115392684936523\n",
      "step = 600: loss = 5.43033504486084\n",
      "step = 800: loss = 8.204324722290039\n",
      "step = 1000: loss = 18.18539047241211\n",
      "step = 1000: Average Return = 21.399999618530273\n",
      "step = 1200: loss = 41.721126556396484\n",
      "step = 1400: loss = 157.4288330078125\n",
      "step = 1600: loss = 92.0132827758789\n",
      "step = 1800: loss = 184.39707946777344\n",
      "step = 2000: loss = 87.91693878173828\n",
      "step = 2000: Average Return = 156.5\n",
      "step = 2200: loss = 228.88247680664062\n",
      "step = 2400: loss = 60.74467468261719\n",
      "step = 2600: loss = 188.25352478027344\n",
      "step = 2800: loss = 134.84902954101562\n",
      "step = 3000: loss = 316.5985107421875\n",
      "step = 3000: Average Return = 200.0\n",
      "step = 3200: loss = 341.11944580078125\n",
      "step = 3400: loss = 1114.6121826171875\n",
      "step = 3600: loss = 969.05859375\n",
      "step = 3800: loss = 567.4719848632812\n",
      "step = 4000: loss = 851.6480712890625\n",
      "step = 4000: Average Return = 200.0\n",
      "step = 4200: loss = 1276.3817138671875\n",
      "step = 4400: loss = 2521.013671875\n",
      "step = 4600: loss = 2043.0308837890625\n",
      "step = 4800: loss = 3608.22119140625\n",
      "step = 5000: loss = 3839.845947265625\n",
      "step = 5000: Average Return = 200.0\n",
      "step = 5200: loss = 4247.4599609375\n",
      "step = 5400: loss = 12219.0537109375\n",
      "step = 5600: loss = 4625.72412109375\n",
      "step = 5800: loss = 7516.18359375\n",
      "step = 6000: loss = 36807.17578125\n",
      "step = 6000: Average Return = 196.89999389648438\n",
      "step = 6200: loss = 12232.505859375\n",
      "step = 6400: loss = 16468.693359375\n",
      "step = 6600: loss = 376287.28125\n",
      "step = 6800: loss = 35279.296875\n",
      "step = 7000: loss = 205584.4375\n",
      "step = 7000: Average Return = 190.5\n",
      "step = 7200: loss = 647057.0\n",
      "step = 7400: loss = 70398.0\n",
      "step = 7600: loss = 45515.8046875\n",
      "step = 7800: loss = 31280.23828125\n",
      "step = 8000: loss = 298027.65625\n",
      "step = 8000: Average Return = 200.0\n",
      "step = 8200: loss = 39790.203125\n",
      "step = 8400: loss = 43909.2265625\n",
      "step = 8600: loss = 244971.75\n",
      "step = 8800: loss = 52723.26171875\n",
      "step = 9000: loss = 79593.375\n",
      "step = 9000: Average Return = 200.0\n",
      "step = 9200: loss = 87626.453125\n",
      "step = 9400: loss = 71338.5625\n",
      "step = 9600: loss = 83748.65625\n",
      "step = 9800: loss = 45190.4296875\n",
      "step = 10000: loss = 897041.5625\n",
      "step = 10000: Average Return = 200.0\n",
      "step = 10200: loss = 117467.46875\n",
      "step = 10400: loss = 287606.34375\n",
      "step = 10600: loss = 1801934.0\n",
      "step = 10800: loss = 166307.109375\n",
      "step = 11000: loss = 122145.4296875\n",
      "step = 11000: Average Return = 200.0\n",
      "step = 11200: loss = 208227.015625\n",
      "step = 11400: loss = 774651.9375\n",
      "step = 11600: loss = 120118.28125\n",
      "step = 11800: loss = 216277.71875\n",
      "step = 12000: loss = 120833.734375\n",
      "step = 12000: Average Return = 195.5\n",
      "step = 12200: loss = 200804.0625\n",
      "step = 12400: loss = 219224.046875\n",
      "step = 12600: loss = 7749710.5\n",
      "step = 12800: loss = 148421.59375\n",
      "step = 13000: loss = 162273.859375\n",
      "step = 13000: Average Return = 196.8000030517578\n",
      "step = 13200: loss = 48822312.0\n",
      "step = 13400: loss = 3302004.25\n",
      "step = 13600: loss = 198481.546875\n",
      "step = 13800: loss = 2057557.0\n",
      "step = 14000: loss = 229251.125\n",
      "step = 14000: Average Return = 200.0\n",
      "step = 14200: loss = 172996.578125\n",
      "step = 14400: loss = 571080.375\n",
      "step = 14600: loss = 275994.1875\n",
      "step = 14800: loss = 211829.40625\n",
      "step = 15000: loss = 303063.59375\n",
      "step = 15000: Average Return = 200.0\n",
      "step = 15200: loss = 500866.875\n",
      "step = 15400: loss = 293001.0625\n",
      "step = 15600: loss = 324844.34375\n",
      "step = 15800: loss = 432045.96875\n",
      "step = 16000: loss = 467754.4375\n",
      "step = 16000: Average Return = 200.0\n",
      "step = 16200: loss = 696650.0\n",
      "step = 16400: loss = 275704.90625\n",
      "step = 16600: loss = 297897.375\n",
      "step = 16800: loss = 375282.125\n",
      "step = 17000: loss = 352679.84375\n",
      "step = 17000: Average Return = 197.10000610351562\n",
      "step = 17200: loss = 442658.25\n",
      "step = 17400: loss = 2036767.625\n",
      "step = 17600: loss = 706063.1875\n",
      "step = 17800: loss = 23142400.0\n",
      "step = 18000: loss = 832300.4375\n",
      "step = 18000: Average Return = 200.0\n",
      "step = 18200: loss = 361106.8125\n",
      "step = 18400: loss = 9503935.0\n",
      "step = 18600: loss = 765271.625\n",
      "step = 18800: loss = 720026.875\n",
      "step = 19000: loss = 737990.25\n",
      "step = 19000: Average Return = 200.0\n",
      "step = 19200: loss = 1770748.0\n",
      "step = 19400: loss = 1142710.0\n",
      "step = 19600: loss = 2158718.25\n",
      "step = 19800: loss = 32352768.0\n",
      "step = 20000: loss = 1775063.75\n",
      "step = 20000: Average Return = 200.0\n"
     ]
    }
   ],
   "source": [
    "#@test {\"skip\": true}\n",
    "try:\n",
    "  %%time\n",
    "except:\n",
    "  pass\n",
    "\n",
    "# (Optional) Optimize by wrapping some of the code in a graph using TF function.\n",
    "agent.train = common.function(agent.train)\n",
    "\n",
    "# Reset the train step\n",
    "agent.train_step_counter.assign(0)\n",
    "\n",
    "# Evaluate the agent's policy once before training.\n",
    "avg_return = compute_avg_return(eval_env, agent.policy, num_eval_episodes)\n",
    "returns = [avg_return]\n",
    "\n",
    "for _ in range(num_iterations):\n",
    "\n",
    "  # Collect a few steps using collect_policy and save to the replay buffer.\n",
    "  collect_data(train_env, agent.collect_policy, replay_buffer, collect_steps_per_iteration)\n",
    "\n",
    "  # Sample a batch of data from the buffer and update the agent's network.\n",
    "  experience, unused_info = next(iterator)\n",
    "  train_loss = agent.train(experience).loss\n",
    "\n",
    "  step = agent.train_step_counter.numpy()\n",
    "\n",
    "  if step % log_interval == 0:\n",
    "    print('step = {0}: loss = {1}'.format(step, train_loss))\n",
    "\n",
    "  if step % eval_interval == 0:\n",
    "    avg_return = compute_avg_return(eval_env, agent.policy, num_eval_episodes)\n",
    "    print('step = {0}: Average Return = {1}'.format(step, avg_return))\n",
    "    returns.append(avg_return)"
   ]
  },
  {
   "cell_type": "markdown",
   "metadata": {
    "id": "68jNcA_TiJDq"
   },
   "source": [
    "## Visualization\n"
   ]
  },
  {
   "cell_type": "markdown",
   "metadata": {
    "id": "aO-LWCdbbOIC"
   },
   "source": [
    "### Plots\n",
    "\n",
    "Use `matplotlib.pyplot` to chart how the policy improved during training.\n",
    "\n",
    "One iteration of `Cartpole-v0` consists of 200 time steps. The environment gives a reward of `+1` for each step the pole stays up, so the maximum return for one episode is 200. The charts shows the return increasing towards that maximum each time it is evaluated during training. (It may be a little unstable and not increase monotonically each time.)"
   ]
  },
  {
   "cell_type": "code",
   "execution_count": 31,
   "metadata": {
    "id": "NxtL1mbOYCVO"
   },
   "outputs": [
    {
     "data": {
      "text/plain": [
       "(3.125, 250.0)"
      ]
     },
     "execution_count": 31,
     "metadata": {},
     "output_type": "execute_result"
    },
    {
     "data": {
      "image/png": "[encoded data removed]",
      "text/plain": [
       "<Figure size 432x288 with 1 Axes>"
      ]
     },
     "metadata": {
      "needs_background": "light"
     },
     "output_type": "display_data"
    }
   ],
   "source": [
    "#@test {\"skip\": true}\n",
    "\n",
    "iterations = range(0, num_iterations + 1, eval_interval)\n",
    "plt.plot(iterations, returns)\n",
    "plt.ylabel('Average Return')\n",
    "plt.xlabel('Iterations')\n",
    "plt.ylim(top=250)"
   ]
  },
  {
   "cell_type": "markdown",
   "metadata": {
    "id": "M7-XpPP99Cy7"
   },
   "source": [
    "### Videos"
   ]
  },
  {
   "cell_type": "markdown",
   "metadata": {
    "id": "9pGfGxSH32gn"
   },
   "source": [
    "Charts are nice. But more exciting is seeing an agent actually performing a task in an environment. \n",
    "\n",
    "First, create a function to embed videos in the notebook."
   ]
  },
  {
   "cell_type": "code",
   "execution_count": 32,
   "metadata": {
    "id": "ULaGr8pvOKbl"
   },
   "outputs": [],
   "source": [
    "def embed_mp4(filename):\n",
    "  \"\"\"Embeds an mp4 file in the notebook.\"\"\"\n",
    "  video = open(filename,'rb').read()\n",
    "  b64 = base64.b64encode(video)\n",
    "  tag = '''\n",
    "  <video width=\"640\" height=\"480\" controls>\n",
    "    <source src=\"data:video/mp4;base64,{0}\" type=\"video/mp4\">\n",
    "  Your browser does not support the video tag.\n",
    "  </video>'''.format(b64.decode())\n",
    "\n",
    "  return IPython.display.HTML(tag)"
   ]
  },
  {
   "cell_type": "markdown",
   "metadata": {
    "id": "9c_PH-pX4Pr5"
   },
   "source": [
    "Now iterate through a few episodes of the Cartpole game with the agent. The underlying Python environment (the one \"inside\" the TensorFlow environment wrapper) provides a `render()` method, which outputs an image of the environment state. These can be collected into a video."
   ]
  },
  {
   "cell_type": "code",
   "execution_count": 34,
   "metadata": {
    "id": "owOVWB158NlF"
   },
   "outputs": [
    {
     "name": "stderr",
     "output_type": "stream",
     "text": [
      "WARNING:root:IMAGEIO FFMPEG_WRITER WARNING: input image is not divisible by macro_block_size=16, resizing from (400, 600) to (400, 608) to ensure video compatibility with most codecs and players. To prevent resizing, make your input image divisible by the macro_block_size or set the macro_block_size to None (risking incompatibility). You may also see a FFMPEG warning concerning speedloss due to data not being aligned.\n",
      "[swscaler @ 0x55a442051840] Warning: data is not aligned! This can lead to a speed loss\n"
     ]
    },
    {
     "data": {
      "text/html": [
       "\n",
       "  <video width=\"640\" height=\"480\" controls>\n",
       "    <source src=\"data:video/mp4;base64,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\" type=\"video/mp4\">\n",
       "  Your browser does not support the video tag.\n",
       "  </video>"
      ],
      "text/plain": [
       "<IPython.core.display.HTML object>"
      ]
     },
     "execution_count": 34,
     "metadata": {},
     "output_type": "execute_result"
    }
   ],
   "source": [
    "def create_policy_eval_video(policy, filename, num_episodes=5, fps=30):\n",
    "  filename = filename + \".mp4\"\n",
    "  with imageio.get_writer(filename, fps=fps) as video:\n",
    "    for _ in range(num_episodes):\n",
    "      time_step = eval_env.reset()\n",
    "      video.append_data(eval_py_env.render())\n",
    "      while not time_step.is_last():\n",
    "        action_step = policy.action(time_step)\n",
    "        time_step = eval_env.step(action_step.action)\n",
    "        video.append_data(eval_py_env.render())\n",
    "  return embed_mp4(filename)\n",
    "\n",
    "\n",
    "\n",
    "\n",
    "create_policy_eval_video(agent.policy, \"trained-agent\")"
   ]
  },
  {
   "cell_type": "markdown",
   "metadata": {
    "id": "povaAOcZygLw"
   },
   "source": [
    "For fun, compare the trained agent (above) to an agent moving randomly. (It does not do as well.)"
   ]
  },
  {
   "cell_type": "code",
   "execution_count": 35,
   "metadata": {
    "id": "pJZIdC37yNH4"
   },
   "outputs": [
    {
     "name": "stderr",
     "output_type": "stream",
     "text": [
      "WARNING:root:IMAGEIO FFMPEG_WRITER WARNING: input image is not divisible by macro_block_size=16, resizing from (400, 600) to (400, 608) to ensure video compatibility with most codecs and players. To prevent resizing, make your input image divisible by the macro_block_size or set the macro_block_size to None (risking incompatibility). You may also see a FFMPEG warning concerning speedloss due to data not being aligned.\n",
      "[swscaler @ 0x55ec2e48c840] Warning: data is not aligned! This can lead to a speed loss\n"
     ]
    },
    {
     "data": {
      "text/html": [
       "\n",
       "  <video width=\"640\" height=\"480\" controls>\n",
       "    <source src=\"data:video/mp4;base64,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\" type=\"video/mp4\">\n",
       "  Your browser does not support the video tag.\n",
       "  </video>"
      ],
      "text/plain": [
       "<IPython.core.display.HTML object>"
      ]
     },
     "execution_count": 35,
     "metadata": {},
     "output_type": "execute_result"
    }
   ],
   "source": [
    "create_policy_eval_video(random_policy, \"random-agent\")"
   ]
  },
  {
   "cell_type": "code",
   "execution_count": null,
   "metadata": {},
   "outputs": [],
   "source": []
  }
 ],
 "metadata": {
  "colab": {
   "collapsed_sections": [],
   "name": "DQN Tutorial.ipynb",
   "private_outputs": true,
   "provenance": [],
   "toc_visible": true
  },
  "kernelspec": {
   "display_name": "Python 3 (ipykernel)",
   "language": "python",
   "name": "python3"
  },
  "language_info": {
   "codemirror_mode": {
    "name": "ipython",
    "version": 3
   },
   "file_extension": ".py",
   "mimetype": "text/x-python",
   "name": "python",
   "nbconvert_exporter": "python",
   "pygments_lexer": "ipython3",
   "version": "3.8.10"
  },
  "pycharm": {
   "stem_cell": {
    "cell_type": "raw",
    "metadata": {
     "collapsed": false
    },
    "source": []
   }
  }
 },
 "nbformat": 4,
 "nbformat_minor": 1
}
