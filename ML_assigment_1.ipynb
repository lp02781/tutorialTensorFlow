{
  "nbformat": 4,
  "nbformat_minor": 0,
  "metadata": {
    "colab": {
      "name": "ML_assigment_1.ipynb",
      "provenance": [],
      "collapsed_sections": []
    },
    "kernelspec": {
      "name": "python3",
      "display_name": "Python 3"
    },
    "language_info": {
      "name": "python"
    }
  },
  "cells": [
    {
      "cell_type": "code",
      "metadata": {
        "id": "GVg_c4xpubBC"
      },
      "source": [
        "import numpy as np\n",
        "import matplotlib.pyplot as plt"
      ],
      "execution_count": 118,
      "outputs": []
    },
    {
      "cell_type": "code",
      "metadata": {
        "id": "N9B7QyervUT8"
      },
      "source": [
        "X_data = [0,1,2,3,4,5,6,7,8,9]\n",
        "Y_data = [1,3,2,5,7,8,8,9,10,12]\n",
        "Y_pred = [0,0,0,0,0,0,0,0,0,0]\n",
        "w = [0,0]"
      ],
      "execution_count": 119,
      "outputs": []
    },
    {
      "cell_type": "code",
      "metadata": {
        "colab": {
          "base_uri": "https://localhost:8080/",
          "height": 282
        },
        "id": "EnpbZ0XGvql8",
        "outputId": "9453e763-350a-472a-d39f-765a3f8d3cf7"
      },
      "source": [
        "plt.plot(X_data, Y_data,'ro')"
      ],
      "execution_count": 120,
      "outputs": [
        {
          "output_type": "execute_result",
          "data": {
            "text/plain": [
              "[<matplotlib.lines.Line2D at 0x7fe79dc23b90>]"
            ]
          },
          "metadata": {},
          "execution_count": 120
        },
        {
          "output_type": "display_data",
          "data": {
            "image/png": "[encoded data removed]",
            "text/plain": [
              "<Figure size 432x288 with 1 Axes>"
            ]
          },
          "metadata": {
            "needs_background": "light"
          }
        }
      ]
    },
    {
      "cell_type": "code",
      "metadata": {
        "id": "06QSzr8fxlmA"
      },
      "source": [
        "def LS(y_predict, y_real, N):\n",
        "  sum=0\n",
        "  for i in range (0,N):  \n",
        "    diff = y_real[i] - y_predict[i]  \n",
        "    diff_2 = diff**2\n",
        "    sum += diff_2 \n",
        "  return sum/2"
      ],
      "execution_count": 121,
      "outputs": []
    },
    {
      "cell_type": "code",
      "metadata": {
        "id": "k4vpRKGp4X39"
      },
      "source": [
        "def find_Y(x,y,w,N):\n",
        "  for i in range (0,N):\n",
        "    y[i] = w[0]+w[1]*x[i]"
      ],
      "execution_count": 122,
      "outputs": []
    },
    {
      "cell_type": "code",
      "metadata": {
        "id": "THy8Rmrax0WJ"
      },
      "source": [
        "def find_W(x,y,N,w):\n",
        "  sum_1 = 0\n",
        "  sum_2 = 0\n",
        "  for i in range (0,N):\n",
        "    x_diff=x[i]-np.mean(x)\n",
        "    x_diff_2 = x_diff**2\n",
        "    y_diff=y[i]-np.mean(y)\n",
        "    sum_1 += x_diff*y_diff\n",
        "    sum_2 += x_diff_2\n",
        "  w[1] = sum_1/sum_2\n",
        "  w[0] = np.mean(y)-w[1]*np.mean(x)"
      ],
      "execution_count": 123,
      "outputs": []
    },
    {
      "cell_type": "code",
      "metadata": {
        "colab": {
          "base_uri": "https://localhost:8080/"
        },
        "id": "iNQfhGSv2CIw",
        "outputId": "db9df256-136b-4fa1-b3f6-230574efae9f"
      },
      "source": [
        "find_W(X_data, Y_data, len(X_data),w)\n",
        "w"
      ],
      "execution_count": 124,
      "outputs": [
        {
          "output_type": "execute_result",
          "data": {
            "text/plain": [
              "[1.2363636363636363, 1.1696969696969697]"
            ]
          },
          "metadata": {},
          "execution_count": 124
        }
      ]
    },
    {
      "cell_type": "code",
      "metadata": {
        "colab": {
          "base_uri": "https://localhost:8080/"
        },
        "id": "xnXMIGvh2_lX",
        "outputId": "5f40353b-bcf6-4f73-e10b-70c7ebbc3aa3"
      },
      "source": [
        "find_Y(X_data, Y_pred, w,len(X_data))\n",
        "Y_pred"
      ],
      "execution_count": 125,
      "outputs": [
        {
          "output_type": "execute_result",
          "data": {
            "text/plain": [
              "[1.2363636363636363,\n",
              " 2.4060606060606062,\n",
              " 3.5757575757575757,\n",
              " 4.745454545454545,\n",
              " 5.915151515151515,\n",
              " 7.084848484848485,\n",
              " 8.254545454545454,\n",
              " 9.424242424242424,\n",
              " 10.593939393939394,\n",
              " 11.763636363636364]"
            ]
          },
          "metadata": {},
          "execution_count": 125
        }
      ]
    },
    {
      "cell_type": "code",
      "metadata": {
        "colab": {
          "base_uri": "https://localhost:8080/"
        },
        "id": "EhvjysHm562g",
        "outputId": "09425c62-f3f8-45db-c4db-bca442bceee5"
      },
      "source": [
        "LS(Y_pred,Y_data,len(X_data))"
      ],
      "execution_count": 126,
      "outputs": [
        {
          "output_type": "execute_result",
          "data": {
            "text/plain": [
              "2.8121212121212107"
            ]
          },
          "metadata": {},
          "execution_count": 126
        }
      ]
    },
    {
      "cell_type": "code",
      "metadata": {
        "colab": {
          "base_uri": "https://localhost:8080/",
          "height": 300
        },
        "id": "bOCzgmF76gDD",
        "outputId": "4d0b6565-0d40-4aef-ec43-30b5c5120aa3"
      },
      "source": [
        "plt.plot(X_data, Y_data,'ro', X_data, Y_pred)"
      ],
      "execution_count": 127,
      "outputs": [
        {
          "output_type": "execute_result",
          "data": {
            "text/plain": [
              "[<matplotlib.lines.Line2D at 0x7fe79dbdb3d0>,\n",
              " <matplotlib.lines.Line2D at 0x7fe79dbdb1d0>]"
            ]
          },
          "metadata": {},
          "execution_count": 127
        },
        {
          "output_type": "display_data",
          "data": {
            "image/png": "[encoded data removed]",
            "text/plain": [
              "<Figure size 432x288 with 1 Axes>"
            ]
          },
          "metadata": {
            "needs_background": "light"
          }
        }
      ]
    },
    {
      "cell_type": "code",
      "metadata": {
        "id": "o6WuWHmG60Cb"
      },
      "source": [
        "def find_RSE(N,y,y_pred):\n",
        "  sum_y = 0\n",
        "  for i in range (0,N):\n",
        "    y_diff=y[i]-y_pred[i]\n",
        "    y_diff_2 = y_diff**2\n",
        "    sum_y+=y_diff_2\n",
        "  err = sum_y/(N-2)\n",
        "  return err\n"
      ],
      "execution_count": 128,
      "outputs": []
    },
    {
      "cell_type": "code",
      "metadata": {
        "id": "wqRtQeS-7-Xc"
      },
      "source": [
        "def find_SEwpower2(rse,x,N):\n",
        "  sum_x = 0\n",
        "  for i in range (0,N):\n",
        "    x_diff=x[i]-np.mean(x)\n",
        "    x_diff_2 = x_diff**2\n",
        "    sum_x += x_diff_2\n",
        "  x_power = np.mean(x)**2\n",
        "  SEw0 = rse * ((1/N)+(x_power/sum_x))\n",
        "  SEw1 = rse/sum_x\n",
        "  return [SEw0, SEw1]"
      ],
      "execution_count": 130,
      "outputs": []
    },
    {
      "cell_type": "code",
      "metadata": {
        "colab": {
          "base_uri": "https://localhost:8080/"
        },
        "id": "FeM7gnty80ke",
        "outputId": "7d3e30f3-59e7-44c6-9f5b-0d8bfcd2df7a"
      },
      "source": [
        "rse = find_RSE(len(X_data),Y_data,Y_pred)\n",
        "rse"
      ],
      "execution_count": 133,
      "outputs": [
        {
          "output_type": "execute_result",
          "data": {
            "text/plain": [
              "0.7030303030303027"
            ]
          },
          "metadata": {},
          "execution_count": 133
        }
      ]
    },
    {
      "cell_type": "code",
      "metadata": {
        "colab": {
          "base_uri": "https://localhost:8080/"
        },
        "id": "e_6wf4v-9tIP",
        "outputId": "25391db7-4e39-4413-9d2d-432e8cb27ac9"
      },
      "source": [
        "find_SEwpower2(rse,X_data,len(X_data))"
      ],
      "execution_count": 134,
      "outputs": [
        {
          "output_type": "execute_result",
          "data": {
            "text/plain": [
              "[0.24286501377410455, 0.008521579430670336]"
            ]
          },
          "metadata": {},
          "execution_count": 134
        }
      ]
    }
  ]
}