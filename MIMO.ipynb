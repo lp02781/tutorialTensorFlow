{
 "cells": [
  {
   "cell_type": "code",
   "execution_count": null,
   "metadata": {},
   "outputs": [],
   "source": [
    "import tensorflow as tf\n",
    "import numpy as np\n",
    "import pandas as pd\n",
    "import matplotlib.pyplot as plt\n",
    "\n",
    "df=pd.read_csv('~/tutorialTensorFlow/haha.csv') \n",
    "\n",
    "data = df.values\n",
    "X_data = data[:,:-2]\n",
    "Y_data = data[:,-2:]\n",
    "\n",
    "X = X_data[:-1000]\n",
    "X_test = X_data[-1000:]\n",
    "Y = Y_data[:-1000]\n",
    "Y_test = Y_data[-1000:]\n",
    "model = tf.keras.models.Sequential([\n",
    "    tf.keras.layers.Dense(128, activation=tf.nn.relu),\n",
    "    tf.keras.layers.Dense(128, activation=tf.nn.relu),\n",
    "    tf.keras.layers.Dense(128, activation=tf.nn.relu),\n",
    "    tf.keras.layers.Dense(128, activation=tf.nn.relu),\n",
    "    tf.keras.layers.Dense(128, activation=tf.nn.relu),\n",
    "    tf.keras.layers.Dense(2, activation= tf.keras.activations.linear)\n",
    "])\n",
    "model.compile(optimizer= tf.keras.optimizers.Adam(lr =0.001),loss='mean_squared_error',metrics=['accuracy'])\n",
    "r = model.fit(X, Y, epochs= 300)\n",
    "plt.plot(r.history['loss'],label = 'Training')\n",
    "plt.legend()\n",
    "plt.show()\n",
    "Y_pred = model.predict(X_test)\n",
    "x_label = np.arange(1,1001,1)\n",
    "plt.figure()\n",
    "plt.subplot(311)\n",
    "plt.plot(x_label, Y_test[:,0], '-b', x_label, Y_pred[:,0], '-r')\n",
    "plt.subplot(312)\n",
    "plt.plot(x_label, Y_test[:,1], '-b', x_label, Y_pred[:,1], '-r')\n",
    "plt.show()\n",
    "model.summary()"
   ]
  },
  {
   "cell_type": "code",
   "execution_count": null,
   "metadata": {},
   "outputs": [],
   "source": []
  },
  {
   "cell_type": "code",
   "execution_count": null,
   "metadata": {},
   "outputs": [],
   "source": []
  },
  {
   "cell_type": "code",
   "execution_count": null,
   "metadata": {},
   "outputs": [],
   "source": []
  }
 ],
 "metadata": {
  "kernelspec": {
   "display_name": "Python 3",
   "language": "python",
   "name": "python3"
  },
  "language_info": {
   "codemirror_mode": {
    "name": "ipython",
    "version": 3
   },
   "file_extension": ".py",
   "mimetype": "text/x-python",
   "name": "python",
   "nbconvert_exporter": "python",
   "pygments_lexer": "ipython3",
   "version": "3.6.9"
  }
 },
 "nbformat": 4,
 "nbformat_minor": 2
}
