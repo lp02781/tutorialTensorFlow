{
 "cells": [
  {
   "cell_type": "code",
   "execution_count": 26,
   "metadata": {},
   "outputs": [
    {
     "name": "stdout",
     "output_type": "stream",
     "text": [
      "Model: \"sequential_5\"\n",
      "_________________________________________________________________\n",
      "Layer (type)                 Output Shape              Param #   \n",
      "=================================================================\n",
      "dense_25 (Dense)             (None, 128)               640       \n",
      "_________________________________________________________________\n",
      "dense_26 (Dense)             (None, 128)               16512     \n",
      "_________________________________________________________________\n",
      "dense_27 (Dense)             (None, 128)               16512     \n",
      "_________________________________________________________________\n",
      "dense_28 (Dense)             (None, 128)               16512     \n",
      "_________________________________________________________________\n",
      "dense_29 (Dense)             (None, 128)               16512     \n",
      "_________________________________________________________________\n",
      "dense_30 (Dense)             (None, 3)                 387       \n",
      "=================================================================\n",
      "Total params: 67,075\n",
      "Trainable params: 67,075\n",
      "Non-trainable params: 0\n",
      "_________________________________________________________________\n",
      "Train on 150 samples\n",
      "Epoch 1/10\n",
      "150/150 [==============================] - 0s 1ms/sample - loss: 1.0281 - accuracy: 0.6867\n",
      "Epoch 2/10\n",
      "150/150 [==============================] - 0s 997us/sample - loss: 0.8474 - accuracy: 0.7667\n",
      "Epoch 3/10\n",
      "150/150 [==============================] - 0s 1ms/sample - loss: 0.7629 - accuracy: 0.8400\n",
      "Epoch 4/10\n",
      "150/150 [==============================] - 0s 1ms/sample - loss: 0.6931 - accuracy: 0.9267\n",
      "Epoch 5/10\n",
      "150/150 [==============================] - 0s 1ms/sample - loss: 0.6694 - accuracy: 0.9333\n",
      "Epoch 6/10\n",
      "150/150 [==============================] - 0s 1ms/sample - loss: 0.6252 - accuracy: 0.9667\n",
      "Epoch 7/10\n",
      "150/150 [==============================] - 0s 2ms/sample - loss: 0.6285 - accuracy: 0.9400\n",
      "Epoch 8/10\n",
      "150/150 [==============================] - 0s 1ms/sample - loss: 0.6169 - accuracy: 0.9533\n",
      "Epoch 9/10\n",
      "150/150 [==============================] - 0s 2ms/sample - loss: 0.6179 - accuracy: 0.9467\n",
      "Epoch 10/10\n",
      "150/150 [==============================] - 0s 1ms/sample - loss: 0.6047 - accuracy: 0.9600\n"
     ]
    }
   ],
   "source": [
    "import numpy as np\n",
    "import pandas as pd\n",
    "\n",
    "import tensorflow as tf\n",
    "from tensorflow.keras import layers\n",
    "\n",
    "df=pd.read_csv('~/tutorialTensorFlow/iris.data') \n",
    "data_raw_x = df[['sep_l','sep_w','pet_l','pet_w']]\n",
    "\n",
    "data_x = data_raw_x.values\n",
    "data_y = pd.factorize(df.classes)[0]\n",
    "\n",
    "class_names = ['Iris-setosa','Iris-versicolor','Iris-virginica']\n",
    "\n",
    "model1 = tf.keras.Sequential()\n",
    "model1.add(layers.Dense(128,activation = 'relu',input_shape=data_x[0].shape))\n",
    "model1.add(layers.Dense(128,activation = 'relu'))\n",
    "model1.add(layers.Dense(128,activation = 'relu'))\n",
    "model1.add(layers.Dense(128,activation = 'relu'))\n",
    "model1.add(layers.Dense(128,activation = 'relu'))\n",
    "model1.add(layers.Dense(3,activation = 'softmax'))\n",
    "model1.summary()\n",
    "\n",
    "ep = 10\n",
    "model1.compile(optimizer=tf.keras.optimizers.Adam(lr =0.0001),\n",
    "              loss=tf.keras.losses.SparseCategoricalCrossentropy(from_logits=True),\n",
    "              metrics=['accuracy'])\n",
    "model1.fit(data_x, data_y,batch_size=1, epochs=ep)"
   ]
  },
  {
   "cell_type": "code",
   "execution_count": null,
   "metadata": {},
   "outputs": [],
   "source": []
  }
 ],
 "metadata": {
  "kernelspec": {
   "display_name": "Python 3",
   "language": "python",
   "name": "python3"
  },
  "language_info": {
   "codemirror_mode": {
    "name": "ipython",
    "version": 3
   },
   "file_extension": ".py",
   "mimetype": "text/x-python",
   "name": "python",
   "nbconvert_exporter": "python",
   "pygments_lexer": "ipython3",
   "version": "3.6.9"
  }
 },
 "nbformat": 4,
 "nbformat_minor": 2
}
