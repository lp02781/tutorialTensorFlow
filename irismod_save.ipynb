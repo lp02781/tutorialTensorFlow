{
 "cells": [
  {
   "cell_type": "code",
   "execution_count": 4,
   "metadata": {},
   "outputs": [
    {
     "name": "stdout",
     "output_type": "stream",
     "text": [
      "Model: \"sequential_3\"\n",
      "_________________________________________________________________\n",
      "Layer (type)                 Output Shape              Param #   \n",
      "=================================================================\n",
      "dense_18 (Dense)             (None, 128)               640       \n",
      "_________________________________________________________________\n",
      "dense_19 (Dense)             (None, 128)               16512     \n",
      "_________________________________________________________________\n",
      "dense_20 (Dense)             (None, 128)               16512     \n",
      "_________________________________________________________________\n",
      "dense_21 (Dense)             (None, 128)               16512     \n",
      "_________________________________________________________________\n",
      "dense_22 (Dense)             (None, 128)               16512     \n",
      "_________________________________________________________________\n",
      "dense_23 (Dense)             (None, 3)                 387       \n",
      "=================================================================\n",
      "Total params: 67,075\n",
      "Trainable params: 67,075\n",
      "Non-trainable params: 0\n",
      "_________________________________________________________________\n",
      "Epoch 1/10\n",
      "150/150 [==============================] - 0s 692us/step - loss: 1.0291 - accuracy: 0.5733\n",
      "Epoch 2/10\n",
      "150/150 [==============================] - 0s 749us/step - loss: 0.8617 - accuracy: 0.7733\n",
      "Epoch 3/10\n",
      "150/150 [==============================] - 0s 762us/step - loss: 0.7501 - accuracy: 0.8667\n",
      "Epoch 4/10\n",
      "150/150 [==============================] - 0s 758us/step - loss: 0.6820 - accuracy: 0.9400\n",
      "Epoch 5/10\n",
      "150/150 [==============================] - 0s 755us/step - loss: 0.6411 - accuracy: 0.9400\n",
      "Epoch 6/10\n",
      "150/150 [==============================] - 0s 995us/step - loss: 0.6172 - accuracy: 0.9667\n",
      "Epoch 7/10\n",
      "150/150 [==============================] - 0s 1ms/step - loss: 0.6315 - accuracy: 0.9467\n",
      "Epoch 8/10\n",
      "150/150 [==============================] - 0s 1ms/step - loss: 0.6136 - accuracy: 0.9533\n",
      "Epoch 9/10\n",
      "150/150 [==============================] - 0s 1ms/step - loss: 0.6013 - accuracy: 0.9533\n",
      "Epoch 10/10\n",
      "150/150 [==============================] - 0s 1ms/step - loss: 0.6073 - accuracy: 0.9533\n"
     ]
    }
   ],
   "source": [
    "import numpy as np\n",
    "import pandas as pd\n",
    "\n",
    "import tensorflow as tf\n",
    "from tensorflow.keras import layers\n",
    "\n",
    "df=pd.read_csv('~/tutorialTensorFlow/iris.data') \n",
    "data_raw_x = df[['sep_l','sep_w','pet_l','pet_w']]\n",
    "\n",
    "data_x = data_raw_x.values\n",
    "data_y = pd.factorize(df.classes)[0]\n",
    "\n",
    "class_names = ['Iris-setosa','Iris-versicolor','Iris-virginica']\n",
    "\n",
    "model1 = tf.keras.Sequential()\n",
    "model1.add(layers.Dense(128,activation = 'relu',input_shape=data_x[0].shape))\n",
    "model1.add(layers.Dense(128,activation = 'relu'))\n",
    "model1.add(layers.Dense(128,activation = 'relu'))\n",
    "model1.add(layers.Dense(128,activation = 'relu'))\n",
    "model1.add(layers.Dense(128,activation = 'relu'))\n",
    "model1.add(layers.Dense(3,activation = 'softmax'))\n",
    "model1.summary()\n",
    "\n",
    "ep = 10\n",
    "model1.compile(optimizer=tf.keras.optimizers.Adam(lr =0.0001),\n",
    "              loss=tf.keras.losses.SparseCategoricalCrossentropy(from_logits=True),\n",
    "              metrics=['accuracy'])\n",
    "model1.fit(data_x, data_y,batch_size=1, epochs=ep)\n",
    "model1.save_weights('./iris_checkpoint/check')"
   ]
  },
  {
   "cell_type": "code",
   "execution_count": null,
   "metadata": {},
   "outputs": [],
   "source": []
  }
 ],
 "metadata": {
  "kernelspec": {
   "display_name": "Python 3",
   "language": "python",
   "name": "python3"
  },
  "language_info": {
   "codemirror_mode": {
    "name": "ipython",
    "version": 3
   },
   "file_extension": ".py",
   "mimetype": "text/x-python",
   "name": "python",
   "nbconvert_exporter": "python",
   "pygments_lexer": "ipython3",
   "version": "3.6.9"
  }
 },
 "nbformat": 4,
 "nbformat_minor": 4
}
