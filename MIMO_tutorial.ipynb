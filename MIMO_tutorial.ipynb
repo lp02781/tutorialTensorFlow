{
 "cells": [
  {
   "cell_type": "markdown",
   "id": "cffc7ec1",
   "metadata": {},
   "source": [
    "import library from tensorflow, pandas, numpy, matplotlib"
   ]
  },
  {
   "cell_type": "code",
   "execution_count": 17,
   "id": "35c3dc8e",
   "metadata": {},
   "outputs": [],
   "source": [
    "import tensorflow as tf\n",
    "import numpy as np\n",
    "import pandas as pd\n",
    "import matplotlib.pyplot as plt\n",
    "import matplotlib.pyplot as prediction"
   ]
  },
  {
   "cell_type": "markdown",
   "id": "5d39250f",
   "metadata": {},
   "source": [
    "insert data from csv file"
   ]
  },
  {
   "cell_type": "code",
   "execution_count": 3,
   "id": "40cb41dd",
   "metadata": {},
   "outputs": [],
   "source": [
    "df = pd.read_csv('~/tutorialTensorFlow/Data_Boat_Inverse_Lengkap.csv')"
   ]
  },
  {
   "cell_type": "markdown",
   "id": "7881efd8",
   "metadata": {},
   "source": [
    "there are 11 coloumns, 9 first coloumns as input and 2 last coloumns as output. there are 2000 rows, 1000 first row as data for learning and 1000 last row for test "
   ]
  },
  {
   "cell_type": "code",
   "execution_count": 4,
   "id": "6cf1ab75",
   "metadata": {},
   "outputs": [],
   "source": [
    "data = df.values\n",
    "X_data = data[:,:-2]\n",
    "Y_data = data[:,-2:]\n",
    "\n",
    "X = X_data[:-1000]\n",
    "Y = Y_data[:-1000]\n",
    "X_test = X_data[-1000:]\n",
    "Y_test = Y_data[-1000:]"
   ]
  },
  {
   "cell_type": "markdown",
   "id": "970620fa",
   "metadata": {},
   "source": [
    "show data"
   ]
  },
  {
   "cell_type": "code",
   "execution_count": 6,
   "id": "4235c9a8",
   "metadata": {},
   "outputs": [
    {
     "name": "stdout",
     "output_type": "stream",
     "text": [
      "[[ 3.50808552e-02  0.00000000e+00  3.00000000e-02  0.00000000e+00\n",
      "   1.83682945e-05  0.00000000e+00  7.00000000e-02  1.04955357e-04\n",
      "   8.59070859e-02]\n",
      " [ 8.59070859e-02  3.50808552e-02  7.00000000e-02  3.00000000e-02\n",
      "   1.04955357e-04  1.83682945e-05  1.20000000e-01  3.18488776e-04\n",
      "   1.52066966e-01]\n",
      " [ 1.52066966e-01  8.59070859e-02  1.20000000e-01  7.00000000e-02\n",
      "   3.18488776e-04  1.04955357e-04  1.30000000e-01  5.00135746e-04\n",
      "   2.20427833e-01]\n",
      " [ 2.20427833e-01  1.52066966e-01  1.30000000e-01  1.20000000e-01\n",
      "   5.00135746e-04  3.18488776e-04  1.30000000e-01  6.64054310e-04\n",
      "   2.92672647e-01]\n",
      " [ 2.92672647e-01  2.20427833e-01  1.30000000e-01  1.30000000e-01\n",
      "   6.64054310e-04  5.00135746e-04  6.00000000e-02  3.89739735e-04\n",
      "   3.72173896e-01]\n",
      " [ 3.72173896e-01  2.92672647e-01  6.00000000e-02  1.30000000e-01\n",
      "   3.89739735e-04  6.64054310e-04 -1.00000000e-02 -7.82439303e-05\n",
      "   4.48304693e-01]\n",
      " [ 4.48304693e-01  3.72173896e-01 -1.00000000e-02  6.00000000e-02\n",
      "  -7.82439303e-05  3.89739735e-04 -1.10000000e-01 -1.00853831e-03\n",
      "   5.25317432e-01]\n",
      " [ 5.25317432e-01  4.48304693e-01 -1.10000000e-01 -1.00000000e-02\n",
      "  -1.00853831e-03 -7.82439303e-05 -1.30000000e-01 -1.32634362e-03\n",
      "   5.84567395e-01]\n",
      " [ 5.84567395e-01  5.25317432e-01 -1.30000000e-01 -1.10000000e-01\n",
      "  -1.32634362e-03 -1.00853831e-03 -5.00000000e-02 -5.62869049e-04\n",
      "   6.45000254e-01]\n",
      " [ 6.45000254e-01  5.84567395e-01 -5.00000000e-02 -1.30000000e-01\n",
      "  -5.62869049e-04 -1.32634362e-03  5.00000000e-02  6.17397840e-04\n",
      "   7.07485631e-01]]\n"
     ]
    }
   ],
   "source": [
    "print(X_data[:10])"
   ]
  },
  {
   "cell_type": "markdown",
   "id": "4826ab60",
   "metadata": {},
   "source": [
    "make a model. 9 input, 5 hidden layers with 128 node in each layer, 2 output"
   ]
  },
  {
   "cell_type": "code",
   "execution_count": 8,
   "id": "e86f3a71",
   "metadata": {},
   "outputs": [],
   "source": [
    "model = tf.keras.models.Sequential([\n",
    "      tf.keras.layers.Dense(128, activation=tf.nn.relu),\n",
    "      tf.keras.layers.Dense(128, activation=tf.nn.relu),\n",
    "      tf.keras.layers.Dense(128, activation=tf.nn.relu),\n",
    "      tf.keras.layers.Dense(128, activation=tf.nn.relu),\n",
    "      tf.keras.layers.Dense(128, activation=tf.nn.relu),\n",
    "      #tf.keras.layers.Dropout(0.2),\n",
    "      tf.keras.layers.Dense(2, activation= tf.keras.activations.linear)\n",
    "    ])\n",
    "model.compile(optimizer= tf.keras.optimizers.Adam(learning_rate =0.001),loss='mean_squared_error',metrics=['accuracy'])"
   ]
  },
  {
   "cell_type": "markdown",
   "id": "757e2e57",
   "metadata": {},
   "source": [
    " learning process with 1000 epochs"
   ]
  },
  {
   "cell_type": "code",
   "execution_count": 11,
   "id": "b597157c",
   "metadata": {},
   "outputs": [
    {
     "name": "stdout",
     "output_type": "stream",
     "text": [
      "Epoch 1/100\n",
      "272/272 [==============================] - 0s 1ms/step - loss: 395.1455 - accuracy: 0.6362\n",
      "Epoch 2/100\n",
      "272/272 [==============================] - 0s 1ms/step - loss: 400.5129 - accuracy: 0.6307\n",
      "Epoch 3/100\n",
      "272/272 [==============================] - 0s 1ms/step - loss: 395.6060 - accuracy: 0.6409\n",
      "Epoch 4/100\n",
      "272/272 [==============================] - 0s 1ms/step - loss: 387.0140 - accuracy: 0.6243\n",
      "Epoch 5/100\n",
      "272/272 [==============================] - 0s 1ms/step - loss: 399.8319 - accuracy: 0.6300\n",
      "Epoch 6/100\n",
      "272/272 [==============================] - 0s 1ms/step - loss: 397.5517 - accuracy: 0.6366\n",
      "Epoch 7/100\n",
      "272/272 [==============================] - 0s 1ms/step - loss: 379.5505 - accuracy: 0.6340\n",
      "Epoch 8/100\n",
      "272/272 [==============================] - 0s 1ms/step - loss: 376.9121 - accuracy: 0.6358\n",
      "Epoch 9/100\n",
      "272/272 [==============================] - 0s 1ms/step - loss: 396.8313 - accuracy: 0.6304\n",
      "Epoch 10/100\n",
      "272/272 [==============================] - 0s 1ms/step - loss: 384.9311 - accuracy: 0.6280\n",
      "Epoch 11/100\n",
      "272/272 [==============================] - 0s 1ms/step - loss: 399.2548 - accuracy: 0.6250\n",
      "Epoch 12/100\n",
      "272/272 [==============================] - 0s 1ms/step - loss: 389.1801 - accuracy: 0.6304\n",
      "Epoch 13/100\n",
      "272/272 [==============================] - 0s 1ms/step - loss: 383.1635 - accuracy: 0.6302\n",
      "Epoch 14/100\n",
      "272/272 [==============================] - 0s 1ms/step - loss: 397.4169 - accuracy: 0.6312\n",
      "Epoch 15/100\n",
      "272/272 [==============================] - 1s 2ms/step - loss: 385.0400 - accuracy: 0.6327\n",
      "Epoch 16/100\n",
      "272/272 [==============================] - 0s 2ms/step - loss: 387.5945 - accuracy: 0.6285\n",
      "Epoch 17/100\n",
      "272/272 [==============================] - 0s 1ms/step - loss: 416.1961 - accuracy: 0.6397\n",
      "Epoch 18/100\n",
      "272/272 [==============================] - 0s 1ms/step - loss: 399.1520 - accuracy: 0.6339\n",
      "Epoch 19/100\n",
      "272/272 [==============================] - 0s 1ms/step - loss: 395.8853 - accuracy: 0.6331\n",
      "Epoch 20/100\n",
      "272/272 [==============================] - 0s 1ms/step - loss: 375.1928 - accuracy: 0.6388\n",
      "Epoch 21/100\n",
      "272/272 [==============================] - 0s 1ms/step - loss: 405.1929 - accuracy: 0.6353\n",
      "Epoch 22/100\n",
      "272/272 [==============================] - 0s 1ms/step - loss: 376.6559 - accuracy: 0.6358\n",
      "Epoch 23/100\n",
      "272/272 [==============================] - 0s 1ms/step - loss: 376.6055 - accuracy: 0.6335\n",
      "Epoch 24/100\n",
      "272/272 [==============================] - 0s 1ms/step - loss: 385.5461 - accuracy: 0.6364\n",
      "Epoch 25/100\n",
      "272/272 [==============================] - 0s 1ms/step - loss: 406.2021 - accuracy: 0.6319\n",
      "Epoch 26/100\n",
      "272/272 [==============================] - 0s 1ms/step - loss: 383.8414 - accuracy: 0.6319\n",
      "Epoch 27/100\n",
      "272/272 [==============================] - 0s 2ms/step - loss: 393.9073 - accuracy: 0.6334\n",
      "Epoch 28/100\n",
      "272/272 [==============================] - 0s 1ms/step - loss: 381.3766 - accuracy: 0.6313\n",
      "Epoch 29/100\n",
      "272/272 [==============================] - 0s 1ms/step - loss: 376.7127 - accuracy: 0.6317\n",
      "Epoch 30/100\n",
      "272/272 [==============================] - 0s 2ms/step - loss: 367.9387 - accuracy: 0.6328\n",
      "Epoch 31/100\n",
      "272/272 [==============================] - 0s 2ms/step - loss: 389.3341 - accuracy: 0.6312\n",
      "Epoch 32/100\n",
      "272/272 [==============================] - 0s 2ms/step - loss: 384.0854 - accuracy: 0.6266\n",
      "Epoch 33/100\n",
      "272/272 [==============================] - 0s 1ms/step - loss: 390.8892 - accuracy: 0.6413\n",
      "Epoch 34/100\n",
      "272/272 [==============================] - 0s 1ms/step - loss: 381.8125 - accuracy: 0.6312\n",
      "Epoch 35/100\n",
      "272/272 [==============================] - 0s 1ms/step - loss: 391.7169 - accuracy: 0.6233\n",
      "Epoch 36/100\n",
      "272/272 [==============================] - 0s 1ms/step - loss: 388.9485 - accuracy: 0.6336\n",
      "Epoch 37/100\n",
      "272/272 [==============================] - 0s 2ms/step - loss: 378.1830 - accuracy: 0.6378\n",
      "Epoch 38/100\n",
      "272/272 [==============================] - 0s 2ms/step - loss: 381.0865 - accuracy: 0.6324\n",
      "Epoch 39/100\n",
      "272/272 [==============================] - 0s 1ms/step - loss: 378.6929 - accuracy: 0.6269\n",
      "Epoch 40/100\n",
      "272/272 [==============================] - 0s 1ms/step - loss: 365.0433 - accuracy: 0.6279\n",
      "Epoch 41/100\n",
      "272/272 [==============================] - 0s 1ms/step - loss: 392.2375 - accuracy: 0.6392\n",
      "Epoch 42/100\n",
      "272/272 [==============================] - 0s 1ms/step - loss: 385.1681 - accuracy: 0.6261\n",
      "Epoch 43/100\n",
      "272/272 [==============================] - 0s 1ms/step - loss: 370.5125 - accuracy: 0.6277\n",
      "Epoch 44/100\n",
      "272/272 [==============================] - 0s 1ms/step - loss: 425.9000 - accuracy: 0.6184\n",
      "Epoch 45/100\n",
      "272/272 [==============================] - 0s 1ms/step - loss: 358.3385 - accuracy: 0.6316\n",
      "Epoch 46/100\n",
      "272/272 [==============================] - 0s 1ms/step - loss: 373.1714 - accuracy: 0.6369\n",
      "Epoch 47/100\n",
      "272/272 [==============================] - 0s 1ms/step - loss: 368.6320 - accuracy: 0.6256\n",
      "Epoch 48/100\n",
      "272/272 [==============================] - 0s 1ms/step - loss: 371.6077 - accuracy: 0.6299\n",
      "Epoch 49/100\n",
      "272/272 [==============================] - 0s 1ms/step - loss: 362.6990 - accuracy: 0.6282\n",
      "Epoch 50/100\n",
      "272/272 [==============================] - 0s 1ms/step - loss: 373.4590 - accuracy: 0.6395\n",
      "Epoch 51/100\n",
      "272/272 [==============================] - 0s 1ms/step - loss: 367.8215 - accuracy: 0.6271\n",
      "Epoch 52/100\n",
      "272/272 [==============================] - 0s 1ms/step - loss: 373.7653 - accuracy: 0.6387\n",
      "Epoch 53/100\n",
      "272/272 [==============================] - 0s 1ms/step - loss: 349.4200 - accuracy: 0.6256\n",
      "Epoch 54/100\n",
      "272/272 [==============================] - 0s 1ms/step - loss: 403.4346 - accuracy: 0.6248\n",
      "Epoch 55/100\n",
      "272/272 [==============================] - 0s 2ms/step - loss: 352.4388 - accuracy: 0.6311\n",
      "Epoch 56/100\n",
      "272/272 [==============================] - 0s 2ms/step - loss: 365.6889 - accuracy: 0.6287\n",
      "Epoch 57/100\n",
      "272/272 [==============================] - 0s 1ms/step - loss: 372.8284 - accuracy: 0.6256\n",
      "Epoch 58/100\n",
      "272/272 [==============================] - 0s 2ms/step - loss: 364.5561 - accuracy: 0.6362\n",
      "Epoch 59/100\n",
      "272/272 [==============================] - 0s 2ms/step - loss: 360.1321 - accuracy: 0.6285\n",
      "Epoch 60/100\n",
      "272/272 [==============================] - 0s 1ms/step - loss: 377.8280 - accuracy: 0.6247\n",
      "Epoch 61/100\n",
      "272/272 [==============================] - 0s 2ms/step - loss: 359.4878 - accuracy: 0.6356\n",
      "Epoch 62/100\n",
      "272/272 [==============================] - 0s 1ms/step - loss: 380.0811 - accuracy: 0.6296\n",
      "Epoch 63/100\n",
      "272/272 [==============================] - 0s 2ms/step - loss: 359.6101 - accuracy: 0.6242\n",
      "Epoch 64/100\n",
      "272/272 [==============================] - 0s 1ms/step - loss: 358.1263 - accuracy: 0.6320\n",
      "Epoch 65/100\n",
      "272/272 [==============================] - 0s 1ms/step - loss: 381.9131 - accuracy: 0.6222\n",
      "Epoch 66/100\n",
      "272/272 [==============================] - 0s 2ms/step - loss: 358.4162 - accuracy: 0.6272\n",
      "Epoch 67/100\n",
      "272/272 [==============================] - 0s 1ms/step - loss: 366.9233 - accuracy: 0.6270\n",
      "Epoch 68/100\n",
      "272/272 [==============================] - 0s 1ms/step - loss: 357.1661 - accuracy: 0.6327\n",
      "Epoch 69/100\n",
      "272/272 [==============================] - 0s 1ms/step - loss: 375.3210 - accuracy: 0.6382\n",
      "Epoch 70/100\n",
      "272/272 [==============================] - 0s 1ms/step - loss: 388.3865 - accuracy: 0.6258\n",
      "Epoch 71/100\n",
      "272/272 [==============================] - 0s 2ms/step - loss: 355.2910 - accuracy: 0.6341\n",
      "Epoch 72/100\n",
      "272/272 [==============================] - 0s 2ms/step - loss: 365.2608 - accuracy: 0.6281\n",
      "Epoch 73/100\n",
      "272/272 [==============================] - 0s 2ms/step - loss: 353.4961 - accuracy: 0.6235\n",
      "Epoch 74/100\n",
      "272/272 [==============================] - 0s 1ms/step - loss: 376.0853 - accuracy: 0.6240\n",
      "Epoch 75/100\n",
      "272/272 [==============================] - 0s 1ms/step - loss: 376.4478 - accuracy: 0.6233\n",
      "Epoch 76/100\n",
      "272/272 [==============================] - 0s 1ms/step - loss: 375.6896 - accuracy: 0.6323\n",
      "Epoch 77/100\n",
      "272/272 [==============================] - 0s 1ms/step - loss: 359.7815 - accuracy: 0.6336\n",
      "Epoch 78/100\n",
      "272/272 [==============================] - 0s 1ms/step - loss: 355.4720 - accuracy: 0.6270\n",
      "Epoch 79/100\n"
     ]
    },
    {
     "name": "stdout",
     "output_type": "stream",
     "text": [
      "272/272 [==============================] - 0s 1ms/step - loss: 352.5627 - accuracy: 0.6351\n",
      "Epoch 80/100\n",
      "272/272 [==============================] - 0s 2ms/step - loss: 377.2522 - accuracy: 0.6168\n",
      "Epoch 81/100\n",
      "272/272 [==============================] - 0s 1ms/step - loss: 360.3206 - accuracy: 0.6270\n",
      "Epoch 82/100\n",
      "272/272 [==============================] - 0s 1ms/step - loss: 339.0828 - accuracy: 0.6311\n",
      "Epoch 83/100\n",
      "272/272 [==============================] - 0s 1ms/step - loss: 369.8972 - accuracy: 0.6256\n",
      "Epoch 84/100\n",
      "272/272 [==============================] - 0s 1ms/step - loss: 375.9590 - accuracy: 0.6330\n",
      "Epoch 85/100\n",
      "272/272 [==============================] - 0s 1ms/step - loss: 358.8499 - accuracy: 0.6327\n",
      "Epoch 86/100\n",
      "272/272 [==============================] - 0s 1ms/step - loss: 349.2888 - accuracy: 0.6273\n",
      "Epoch 87/100\n",
      "272/272 [==============================] - 0s 2ms/step - loss: 368.9646 - accuracy: 0.6307\n",
      "Epoch 88/100\n",
      "272/272 [==============================] - 0s 2ms/step - loss: 363.6554 - accuracy: 0.6330\n",
      "Epoch 89/100\n",
      "272/272 [==============================] - 0s 1ms/step - loss: 386.8480 - accuracy: 0.6202\n",
      "Epoch 90/100\n",
      "272/272 [==============================] - 0s 2ms/step - loss: 350.4999 - accuracy: 0.6272\n",
      "Epoch 91/100\n",
      "272/272 [==============================] - 0s 2ms/step - loss: 367.1016 - accuracy: 0.6268\n",
      "Epoch 92/100\n",
      "272/272 [==============================] - 0s 1ms/step - loss: 363.3713 - accuracy: 0.6281\n",
      "Epoch 93/100\n",
      "272/272 [==============================] - 0s 1ms/step - loss: 355.2210 - accuracy: 0.6231\n",
      "Epoch 94/100\n",
      "272/272 [==============================] - 0s 1ms/step - loss: 351.7968 - accuracy: 0.6204\n",
      "Epoch 95/100\n",
      "272/272 [==============================] - 0s 1ms/step - loss: 351.1931 - accuracy: 0.6234\n",
      "Epoch 96/100\n",
      "272/272 [==============================] - 0s 1ms/step - loss: 369.8544 - accuracy: 0.6162\n",
      "Epoch 97/100\n",
      "272/272 [==============================] - 0s 2ms/step - loss: 364.4124 - accuracy: 0.6296\n",
      "Epoch 98/100\n",
      "272/272 [==============================] - 0s 1ms/step - loss: 360.2091 - accuracy: 0.6205\n",
      "Epoch 99/100\n",
      "272/272 [==============================] - 0s 1ms/step - loss: 361.2741 - accuracy: 0.6286\n",
      "Epoch 100/100\n",
      "272/272 [==============================] - 0s 1ms/step - loss: 347.2377 - accuracy: 0.6264\n"
     ]
    }
   ],
   "source": [
    "learn = model.fit(X, Y, epochs= 100)"
   ]
  },
  {
   "cell_type": "markdown",
   "id": "a8821427",
   "metadata": {},
   "source": [
    "plot error graph from learning process"
   ]
  },
  {
   "cell_type": "code",
   "execution_count": 12,
   "id": "d5fbff1f",
   "metadata": {},
   "outputs": [
    {
     "data": {
      "image/png": "[encoded data removed]",
      "text/plain": [
       "<Figure size 432x288 with 1 Axes>"
      ]
     },
     "metadata": {
      "needs_background": "light"
     },
     "output_type": "display_data"
    }
   ],
   "source": [
    "plt.plot(learn.history['loss'],label = 'Training')\n",
    "plt.legend()\n",
    "plt.show()"
   ]
  },
  {
   "cell_type": "markdown",
   "id": "2ef78c85",
   "metadata": {},
   "source": [
    "predict output using model"
   ]
  },
  {
   "cell_type": "code",
   "execution_count": 13,
   "id": "0ed84e99",
   "metadata": {},
   "outputs": [],
   "source": [
    "Y_pred = model.predict(X_test)"
   ]
  },
  {
   "cell_type": "markdown",
   "id": "65562e6c",
   "metadata": {},
   "source": [
    "Plot predict result"
   ]
  },
  {
   "cell_type": "code",
   "execution_count": 14,
   "id": "4f7820ef",
   "metadata": {},
   "outputs": [
    {
     "data": {
      "image/png": "[encoded data removed]",
      "text/plain": [
       "<Figure size 432x288 with 2 Axes>"
      ]
     },
     "metadata": {
      "needs_background": "light"
     },
     "output_type": "display_data"
    }
   ],
   "source": [
    "x_label = np.arange(1,1001,1)\n",
    "plt.figure()\n",
    "plt.subplot(311)\n",
    "plt.plot(x_label, Y_test[:,0], '-b', x_label, Y_pred[:,0], '-r')\n",
    "plt.subplot(312)\n",
    "plt.plot(x_label, Y_test[:,1], '-b', x_label, Y_pred[:,1], '-r')\n",
    "plt.show()"
   ]
  },
  {
   "cell_type": "markdown",
   "id": "ded113eb",
   "metadata": {},
   "source": [
    "summary of model"
   ]
  },
  {
   "cell_type": "code",
   "execution_count": 15,
   "id": "f95116c0",
   "metadata": {},
   "outputs": [
    {
     "name": "stdout",
     "output_type": "stream",
     "text": [
      "Model: \"sequential_1\"\n",
      "_________________________________________________________________\n",
      "Layer (type)                 Output Shape              Param #   \n",
      "=================================================================\n",
      "dense_6 (Dense)              (None, 128)               1280      \n",
      "_________________________________________________________________\n",
      "dense_7 (Dense)              (None, 128)               16512     \n",
      "_________________________________________________________________\n",
      "dense_8 (Dense)              (None, 128)               16512     \n",
      "_________________________________________________________________\n",
      "dense_9 (Dense)              (None, 128)               16512     \n",
      "_________________________________________________________________\n",
      "dense_10 (Dense)             (None, 128)               16512     \n",
      "_________________________________________________________________\n",
      "dense_11 (Dense)             (None, 2)                 258       \n",
      "=================================================================\n",
      "Total params: 67,586\n",
      "Trainable params: 67,586\n",
      "Non-trainable params: 0\n",
      "_________________________________________________________________\n"
     ]
    }
   ],
   "source": [
    "model.summary()"
   ]
  },
  {
   "cell_type": "markdown",
   "id": "f1e35e4c",
   "metadata": {},
   "source": [
    "save your model"
   ]
  },
  {
   "cell_type": "code",
   "execution_count": 20,
   "id": "8df38ba4",
   "metadata": {},
   "outputs": [],
   "source": [
    "model.save_weights('./model_boat/hehe')"
   ]
  },
  {
   "cell_type": "markdown",
   "id": "55998a04",
   "metadata": {},
   "source": [
    "made a new model"
   ]
  },
  {
   "cell_type": "code",
   "execution_count": 24,
   "id": "d092b770",
   "metadata": {},
   "outputs": [],
   "source": [
    "model_new = tf.keras.models.Sequential([\n",
    "      tf.keras.layers.Dense(128, activation=tf.nn.relu),\n",
    "      tf.keras.layers.Dense(128, activation=tf.nn.relu),\n",
    "      tf.keras.layers.Dense(128, activation=tf.nn.relu),\n",
    "      tf.keras.layers.Dense(128, activation=tf.nn.relu),\n",
    "      tf.keras.layers.Dense(128, activation=tf.nn.relu),\n",
    "      #tf.keras.layers.Dropout(0.2),\n",
    "      tf.keras.layers.Dense(2, activation= tf.keras.activations.linear)\n",
    "    ])\n",
    "model_new.compile(optimizer= tf.keras.optimizers.Adam(learning_rate =0.001),loss='mean_squared_error',metrics=['accuracy'])\n"
   ]
  },
  {
   "cell_type": "markdown",
   "id": "6dfed72f",
   "metadata": {},
   "source": [
    "load previous model to new model"
   ]
  },
  {
   "cell_type": "code",
   "execution_count": 27,
   "id": "b6d88eec",
   "metadata": {},
   "outputs": [
    {
     "name": "stdout",
     "output_type": "stream",
     "text": [
      "272/272 - 0s - loss: 340.7908 - accuracy: 0.5010\n",
      "Restored model, accuracy: 50.10%\n"
     ]
    }
   ],
   "source": [
    "model_new.load_weights('./model_boat/hehe')\n",
    "loss,acc = model_new.evaluate(X,  Y, verbose=2)\n",
    "print(\"Restored model, accuracy: {:5.2f}%\".format(100*acc))"
   ]
  },
  {
   "cell_type": "code",
   "execution_count": null,
   "id": "cbcd3367",
   "metadata": {},
   "outputs": [],
   "source": []
  }
 ],
 "metadata": {
  "kernelspec": {
   "display_name": "Python 3",
   "language": "python",
   "name": "python3"
  },
  "language_info": {
   "codemirror_mode": {
    "name": "ipython",
    "version": 3
   },
   "file_extension": ".py",
   "mimetype": "text/x-python",
   "name": "python",
   "nbconvert_exporter": "python",
   "pygments_lexer": "ipython3",
   "version": "3.6.9"
  }
 },
 "nbformat": 4,
 "nbformat_minor": 5
}
