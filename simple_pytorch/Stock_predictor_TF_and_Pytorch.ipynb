{
 "cells": [
  {
   "cell_type": "code",
   "execution_count": 1,
   "metadata": {
    "scrolled": true
   },
   "outputs": [
    {
     "name": "stderr",
     "output_type": "stream",
     "text": [
      "<ipython-input-1-a0030765309d>:4: FutureWarning: The pandas.datetime class is deprecated and will be removed from pandas in a future version. Import from datetime module instead.\n",
      "  from pandas import datetime\n"
     ]
    }
   ],
   "source": [
    "import numpy as np\n",
    "import matplotlib.pyplot as plt\n",
    "import pandas as pd\n",
    "from pandas import datetime\n",
    "import math\n",
    "from math import sqrt\n",
    "from keras.models import Sequential\n",
    "from keras.layers.core import Dense, Dropout, Activation"
   ]
  },
  {
   "cell_type": "code",
   "execution_count": 2,
   "metadata": {},
   "outputs": [],
   "source": [
    "def get_stock_data(normalized=0):\n",
    "    url = \"EDELWEISSNS.csv\"\n",
    "    col_names = ['Date','Open','High','Low','Close','Volume','Adj']\n",
    "    stocks = pd.read_csv(url, header=0, names=col_names) \n",
    "    df = pd.DataFrame(stocks)\n",
    "    date_split = df['Date'].str.split('-').str\n",
    "    df['Year'], df['Month'], df['Day'] = date_split\n",
    "    df[\"Volume\"] = df[\"Volume\"] / 10000\n",
    "    return df"
   ]
  },
  {
   "cell_type": "code",
   "execution_count": 3,
   "metadata": {},
   "outputs": [
    {
     "name": "stderr",
     "output_type": "stream",
     "text": [
      "<ipython-input-2-d5396d546540>:7: FutureWarning: Columnar iteration over characters will be deprecated in future releases.\n",
      "  df['Year'], df['Month'], df['Day'] = date_split\n"
     ]
    },
    {
     "data": {
      "text/html": [
       "<div>\n",
       "<style scoped>\n",
       "    .dataframe tbody tr th:only-of-type {\n",
       "        vertical-align: middle;\n",
       "    }\n",
       "\n",
       "    .dataframe tbody tr th {\n",
       "        vertical-align: top;\n",
       "    }\n",
       "\n",
       "    .dataframe thead th {\n",
       "        text-align: right;\n",
       "    }\n",
       "</style>\n",
       "<table border=\"1\" class=\"dataframe\">\n",
       "  <thead>\n",
       "    <tr style=\"text-align: right;\">\n",
       "      <th></th>\n",
       "      <th>Date</th>\n",
       "      <th>Open</th>\n",
       "      <th>High</th>\n",
       "      <th>Low</th>\n",
       "      <th>Close</th>\n",
       "      <th>Volume</th>\n",
       "      <th>Adj</th>\n",
       "      <th>Year</th>\n",
       "      <th>Month</th>\n",
       "      <th>Day</th>\n",
       "    </tr>\n",
       "  </thead>\n",
       "  <tbody>\n",
       "    <tr>\n",
       "      <th>0</th>\n",
       "      <td>2008-10-03</td>\n",
       "      <td>41.299999</td>\n",
       "      <td>41.685001</td>\n",
       "      <td>39.400002</td>\n",
       "      <td>40.525002</td>\n",
       "      <td>0.002930</td>\n",
       "      <td>185090.0</td>\n",
       "      <td>2008</td>\n",
       "      <td>10</td>\n",
       "      <td>03</td>\n",
       "    </tr>\n",
       "    <tr>\n",
       "      <th>1</th>\n",
       "      <td>2008-10-06</td>\n",
       "      <td>39.700001</td>\n",
       "      <td>40.799999</td>\n",
       "      <td>37.200001</td>\n",
       "      <td>39.564999</td>\n",
       "      <td>0.002860</td>\n",
       "      <td>204340.0</td>\n",
       "      <td>2008</td>\n",
       "      <td>10</td>\n",
       "      <td>06</td>\n",
       "    </tr>\n",
       "    <tr>\n",
       "      <th>2</th>\n",
       "      <td>2008-10-07</td>\n",
       "      <td>40.000000</td>\n",
       "      <td>40.599998</td>\n",
       "      <td>36.000000</td>\n",
       "      <td>36.119999</td>\n",
       "      <td>0.002611</td>\n",
       "      <td>128970.0</td>\n",
       "      <td>2008</td>\n",
       "      <td>10</td>\n",
       "      <td>07</td>\n",
       "    </tr>\n",
       "    <tr>\n",
       "      <th>3</th>\n",
       "      <td>2008-10-08</td>\n",
       "      <td>35.000000</td>\n",
       "      <td>44.400002</td>\n",
       "      <td>34.500000</td>\n",
       "      <td>40.880001</td>\n",
       "      <td>0.002955</td>\n",
       "      <td>700490.0</td>\n",
       "      <td>2008</td>\n",
       "      <td>10</td>\n",
       "      <td>08</td>\n",
       "    </tr>\n",
       "    <tr>\n",
       "      <th>4</th>\n",
       "      <td>2008-10-10</td>\n",
       "      <td>40.400002</td>\n",
       "      <td>40.400002</td>\n",
       "      <td>35.299999</td>\n",
       "      <td>37.910000</td>\n",
       "      <td>0.002741</td>\n",
       "      <td>367380.0</td>\n",
       "      <td>2008</td>\n",
       "      <td>10</td>\n",
       "      <td>10</td>\n",
       "    </tr>\n",
       "  </tbody>\n",
       "</table>\n",
       "</div>"
      ],
      "text/plain": [
       "         Date       Open       High        Low      Close    Volume       Adj  \\\n",
       "0  2008-10-03  41.299999  41.685001  39.400002  40.525002  0.002930  185090.0   \n",
       "1  2008-10-06  39.700001  40.799999  37.200001  39.564999  0.002860  204340.0   \n",
       "2  2008-10-07  40.000000  40.599998  36.000000  36.119999  0.002611  128970.0   \n",
       "3  2008-10-08  35.000000  44.400002  34.500000  40.880001  0.002955  700490.0   \n",
       "4  2008-10-10  40.400002  40.400002  35.299999  37.910000  0.002741  367380.0   \n",
       "\n",
       "   Year Month Day  \n",
       "0  2008    10  03  \n",
       "1  2008    10  06  \n",
       "2  2008    10  07  \n",
       "3  2008    10  08  \n",
       "4  2008    10  10  "
      ]
     },
     "execution_count": 3,
     "metadata": {},
     "output_type": "execute_result"
    }
   ],
   "source": [
    "df = get_stock_data(0)\n",
    "df.head()"
   ]
  },
  {
   "cell_type": "code",
   "execution_count": 4,
   "metadata": {},
   "outputs": [
    {
     "data": {
      "text/html": [
       "<div>\n",
       "<style scoped>\n",
       "    .dataframe tbody tr th:only-of-type {\n",
       "        vertical-align: middle;\n",
       "    }\n",
       "\n",
       "    .dataframe tbody tr th {\n",
       "        vertical-align: top;\n",
       "    }\n",
       "\n",
       "    .dataframe thead th {\n",
       "        text-align: right;\n",
       "    }\n",
       "</style>\n",
       "<table border=\"1\" class=\"dataframe\">\n",
       "  <thead>\n",
       "    <tr style=\"text-align: right;\">\n",
       "      <th></th>\n",
       "      <th>Open</th>\n",
       "      <th>High</th>\n",
       "      <th>Low</th>\n",
       "      <th>Close</th>\n",
       "      <th>Volume</th>\n",
       "    </tr>\n",
       "  </thead>\n",
       "  <tbody>\n",
       "    <tr>\n",
       "      <th>0</th>\n",
       "      <td>41.299999</td>\n",
       "      <td>41.685001</td>\n",
       "      <td>39.400002</td>\n",
       "      <td>40.525002</td>\n",
       "      <td>0.002930</td>\n",
       "    </tr>\n",
       "    <tr>\n",
       "      <th>1</th>\n",
       "      <td>39.700001</td>\n",
       "      <td>40.799999</td>\n",
       "      <td>37.200001</td>\n",
       "      <td>39.564999</td>\n",
       "      <td>0.002860</td>\n",
       "    </tr>\n",
       "    <tr>\n",
       "      <th>2</th>\n",
       "      <td>40.000000</td>\n",
       "      <td>40.599998</td>\n",
       "      <td>36.000000</td>\n",
       "      <td>36.119999</td>\n",
       "      <td>0.002611</td>\n",
       "    </tr>\n",
       "    <tr>\n",
       "      <th>3</th>\n",
       "      <td>35.000000</td>\n",
       "      <td>44.400002</td>\n",
       "      <td>34.500000</td>\n",
       "      <td>40.880001</td>\n",
       "      <td>0.002955</td>\n",
       "    </tr>\n",
       "    <tr>\n",
       "      <th>4</th>\n",
       "      <td>40.400002</td>\n",
       "      <td>40.400002</td>\n",
       "      <td>35.299999</td>\n",
       "      <td>37.910000</td>\n",
       "      <td>0.002741</td>\n",
       "    </tr>\n",
       "  </tbody>\n",
       "</table>\n",
       "</div>"
      ],
      "text/plain": [
       "        Open       High        Low      Close    Volume\n",
       "0  41.299999  41.685001  39.400002  40.525002  0.002930\n",
       "1  39.700001  40.799999  37.200001  39.564999  0.002860\n",
       "2  40.000000  40.599998  36.000000  36.119999  0.002611\n",
       "3  35.000000  44.400002  34.500000  40.880001  0.002955\n",
       "4  40.400002  40.400002  35.299999  37.910000  0.002741"
      ]
     },
     "execution_count": 4,
     "metadata": {},
     "output_type": "execute_result"
    }
   ],
   "source": [
    "df.drop(df.columns[[0,6,7,8,9]], axis=1, inplace=True)\n",
    "df.head()"
   ]
  },
  {
   "cell_type": "code",
   "execution_count": 5,
   "metadata": {},
   "outputs": [
    {
     "name": "stdout",
     "output_type": "stream",
     "text": [
      "       Open     High     Low    Close    Volume\n",
      "0     0.413  0.41685  0.3940  0.40525  0.292964\n",
      "1     0.397  0.40800  0.3720  0.39565  0.286023\n",
      "2     0.400  0.40600  0.3600  0.36120  0.261119\n",
      "3     0.350  0.44400  0.3450  0.40880  0.295530\n",
      "4     0.404  0.40400  0.3530  0.37910  0.274059\n",
      "...     ...      ...     ...      ...       ...\n",
      "2462  2.180  2.21000  2.0850  2.18550  2.185500\n",
      "2463  2.215  2.21500  2.1010  2.12150  2.121500\n",
      "2464  2.132  2.14450  1.8520  1.89400  1.894000\n",
      "2465  1.914  1.98850  1.8100  1.89500  1.895000\n",
      "2466  1.890  1.90900  1.6905  1.87000  1.870000\n",
      "\n",
      "[2467 rows x 5 columns]\n"
     ]
    }
   ],
   "source": [
    "df['Open'] = df['Open']/100\n",
    "df['High'] = df['High']/100\n",
    "df['Low'] = df['Low']/100\n",
    "df['Close'] = df['Close']/100\n",
    "df['Volume'] = df['Volume']*100\n",
    "\n",
    "print(df)"
   ]
  },
  {
   "cell_type": "code",
   "execution_count": 6,
   "metadata": {},
   "outputs": [],
   "source": [
    "nan_value_index = []\n",
    "Open = df.Open.isnull()\n",
    "for i in range(0, len(Open)):\n",
    "    if Open[i] == 1:\n",
    "        nan_value_index.append(i)\n",
    "        df['Open'][i] = 0\n",
    "High = df.High.isnull()\n",
    "for i in range(0, len(High)):\n",
    "    if High[i] == 1:\n",
    "        nan_value_index.append(i)\n",
    "        df['High'][i] = 0\n",
    "Low = df.Low.isnull()\n",
    "for i in range(0, len(Low)):\n",
    "    if Low[i] == 1:\n",
    "        nan_value_index.append(i)\n",
    "        df['Low'][i] = 0\n",
    "Close = df.Close.isnull()\n",
    "for i in range(0, len(Close)):\n",
    "    if Close[i] == 1:\n",
    "        nan_value_index.append(i)\n",
    "        df['Close'][i] = 0\n",
    "Volume = df.Volume.isnull()\n",
    "for i in range(0, len(Volume)):\n",
    "    if Volume[i] == 1:\n",
    "        nan_value_index.append(i)\n",
    "        df['Volume'][i] = 0"
   ]
  },
  {
   "cell_type": "code",
   "execution_count": 7,
   "metadata": {},
   "outputs": [],
   "source": [
    "X = df[['Open','High','Low', 'Volume']]\n",
    "Y = df[['Close']]"
   ]
  },
  {
   "cell_type": "markdown",
   "metadata": {},
   "source": [
    "# Training Using TensorFLOW"
   ]
  },
  {
   "cell_type": "code",
   "execution_count": 8,
   "metadata": {},
   "outputs": [],
   "source": [
    "factor = 0.80\n",
    "length = X.shape[0]\n",
    "total_for_train = int(length*factor)\n",
    "X_train = X[:total_for_train]\n",
    "Y_train = Y[:total_for_train]\n",
    "X_test = X[total_for_train:]\n",
    "Y_test = Y[total_for_train:]"
   ]
  },
  {
   "cell_type": "code",
   "execution_count": 9,
   "metadata": {},
   "outputs": [
    {
     "name": "stdout",
     "output_type": "stream",
     "text": [
      "X_train (1973, 4)\n",
      "y_train (1973, 1)\n",
      "X_test (494, 4)\n",
      "y_test (494, 1)\n"
     ]
    }
   ],
   "source": [
    "print(\"X_train\", X_train.shape)\n",
    "print(\"y_train\", Y_train.shape)\n",
    "print(\"X_test\", X_test.shape)\n",
    "print(\"y_test\", Y_test.shape)"
   ]
  },
  {
   "cell_type": "code",
   "execution_count": 10,
   "metadata": {},
   "outputs": [],
   "source": [
    "model = Sequential()\n",
    "model.add(Dense(units = 32, activation = 'relu', input_dim = 4))\n",
    "model.add(Dense(units = 10, activation = 'relu'))\n",
    "model.add(Dense(units = 1, activation = 'linear'))"
   ]
  },
  {
   "cell_type": "code",
   "execution_count": 11,
   "metadata": {},
   "outputs": [],
   "source": [
    "model.compile(optimizer = 'adam', loss = 'mean_squared_error', metrics = [])"
   ]
  },
  {
   "cell_type": "code",
   "execution_count": 12,
   "metadata": {},
   "outputs": [
    {
     "name": "stdout",
     "output_type": "stream",
     "text": [
      "Epoch 1/100\n",
      "16/16 [==============================] - 14s 18ms/step - loss: 0.0036\n",
      "Epoch 2/100\n",
      "16/16 [==============================] - 0s 5ms/step - loss: 5.7419e-04\n",
      "Epoch 3/100\n",
      "16/16 [==============================] - 0s 4ms/step - loss: 2.4121e-04\n",
      "Epoch 4/100\n",
      "16/16 [==============================] - 0s 4ms/step - loss: 1.4230e-04\n",
      "Epoch 5/100\n",
      "16/16 [==============================] - 0s 4ms/step - loss: 1.0012e-04\n",
      "Epoch 6/100\n",
      "16/16 [==============================] - 0s 4ms/step - loss: 7.7300e-05\n",
      "Epoch 7/100\n",
      "16/16 [==============================] - 0s 4ms/step - loss: 7.2536e-05\n",
      "Epoch 8/100\n",
      "16/16 [==============================] - 0s 5ms/step - loss: 7.0291e-05\n",
      "Epoch 9/100\n",
      "16/16 [==============================] - 0s 6ms/step - loss: 6.9188e-05\n",
      "Epoch 10/100\n",
      "16/16 [==============================] - 0s 5ms/step - loss: 6.8912e-05\n",
      "Epoch 11/100\n",
      "16/16 [==============================] - 0s 5ms/step - loss: 6.8578e-05\n",
      "Epoch 12/100\n",
      "16/16 [==============================] - 0s 4ms/step - loss: 6.8815e-05\n",
      "Epoch 13/100\n",
      "16/16 [==============================] - 0s 4ms/step - loss: 6.8872e-05\n",
      "Epoch 14/100\n",
      "16/16 [==============================] - 0s 4ms/step - loss: 6.7965e-05\n",
      "Epoch 15/100\n",
      "16/16 [==============================] - 0s 4ms/step - loss: 6.8534e-05\n",
      "Epoch 16/100\n",
      "16/16 [==============================] - 0s 4ms/step - loss: 6.7679e-05\n",
      "Epoch 17/100\n",
      "16/16 [==============================] - 0s 4ms/step - loss: 6.7488e-05\n",
      "Epoch 18/100\n",
      "16/16 [==============================] - 0s 4ms/step - loss: 6.7600e-05\n",
      "Epoch 19/100\n",
      "16/16 [==============================] - 0s 6ms/step - loss: 6.7016e-05\n",
      "Epoch 20/100\n",
      "16/16 [==============================] - 0s 5ms/step - loss: 6.7311e-05\n",
      "Epoch 21/100\n",
      "16/16 [==============================] - 0s 5ms/step - loss: 6.7199e-05\n",
      "Epoch 22/100\n",
      "16/16 [==============================] - 0s 5ms/step - loss: 6.6588e-05\n",
      "Epoch 23/100\n",
      "16/16 [==============================] - 0s 4ms/step - loss: 6.7056e-05\n",
      "Epoch 24/100\n",
      "16/16 [==============================] - 0s 4ms/step - loss: 6.6738e-05\n",
      "Epoch 25/100\n",
      "16/16 [==============================] - 0s 30ms/step - loss: 6.6162e-05\n",
      "Epoch 26/100\n",
      "16/16 [==============================] - 0s 5ms/step - loss: 6.7013e-05\n",
      "Epoch 27/100\n",
      "16/16 [==============================] - 0s 5ms/step - loss: 6.6608e-05\n",
      "Epoch 28/100\n",
      "16/16 [==============================] - 0s 4ms/step - loss: 6.5377e-05\n",
      "Epoch 29/100\n",
      "16/16 [==============================] - 0s 4ms/step - loss: 6.6136e-05\n",
      "Epoch 30/100\n",
      "16/16 [==============================] - 0s 4ms/step - loss: 6.5078e-05\n",
      "Epoch 31/100\n",
      "16/16 [==============================] - 0s 4ms/step - loss: 6.8118e-05\n",
      "Epoch 32/100\n",
      "16/16 [==============================] - 0s 4ms/step - loss: 6.6875e-05\n",
      "Epoch 33/100\n",
      "16/16 [==============================] - 0s 5ms/step - loss: 6.4661e-05\n",
      "Epoch 34/100\n",
      "16/16 [==============================] - 0s 4ms/step - loss: 6.4459e-05\n",
      "Epoch 35/100\n",
      "16/16 [==============================] - 0s 5ms/step - loss: 6.5526e-05\n",
      "Epoch 36/100\n",
      "16/16 [==============================] - 0s 5ms/step - loss: 6.5168e-05\n",
      "Epoch 37/100\n",
      "16/16 [==============================] - 0s 4ms/step - loss: 6.5420e-05\n",
      "Epoch 38/100\n",
      "16/16 [==============================] - 0s 4ms/step - loss: 6.4375e-05\n",
      "Epoch 39/100\n",
      "16/16 [==============================] - 0s 4ms/step - loss: 6.3086e-05\n",
      "Epoch 40/100\n",
      "16/16 [==============================] - 0s 4ms/step - loss: 6.4184e-05\n",
      "Epoch 41/100\n",
      "16/16 [==============================] - 0s 4ms/step - loss: 6.2890e-05\n",
      "Epoch 42/100\n",
      "16/16 [==============================] - 0s 4ms/step - loss: 6.3347e-05\n",
      "Epoch 43/100\n",
      "16/16 [==============================] - 0s 5ms/step - loss: 6.2362e-05\n",
      "Epoch 44/100\n",
      "16/16 [==============================] - 0s 5ms/step - loss: 6.2278e-05\n",
      "Epoch 45/100\n",
      "16/16 [==============================] - 0s 4ms/step - loss: 6.1826e-05\n",
      "Epoch 46/100\n",
      "16/16 [==============================] - 0s 5ms/step - loss: 6.2241e-05\n",
      "Epoch 47/100\n",
      "16/16 [==============================] - 0s 4ms/step - loss: 6.2151e-05\n",
      "Epoch 48/100\n",
      "16/16 [==============================] - 0s 5ms/step - loss: 6.1628e-05\n",
      "Epoch 49/100\n",
      "16/16 [==============================] - 0s 6ms/step - loss: 6.1313e-05\n",
      "Epoch 50/100\n",
      "16/16 [==============================] - 0s 5ms/step - loss: 6.1158e-05\n",
      "Epoch 51/100\n",
      "16/16 [==============================] - 0s 4ms/step - loss: 6.0906e-05\n",
      "Epoch 52/100\n",
      "16/16 [==============================] - 0s 4ms/step - loss: 6.1257e-05\n",
      "Epoch 53/100\n",
      "16/16 [==============================] - 0s 4ms/step - loss: 6.1163e-05\n",
      "Epoch 54/100\n",
      "16/16 [==============================] - 0s 4ms/step - loss: 6.2210e-05\n",
      "Epoch 55/100\n",
      "16/16 [==============================] - 0s 5ms/step - loss: 6.1332e-05\n",
      "Epoch 56/100\n",
      "16/16 [==============================] - 0s 4ms/step - loss: 5.9371e-05\n",
      "Epoch 57/100\n",
      "16/16 [==============================] - 0s 4ms/step - loss: 5.9239e-05\n",
      "Epoch 58/100\n",
      "16/16 [==============================] - 0s 4ms/step - loss: 5.9741e-05\n",
      "Epoch 59/100\n",
      "16/16 [==============================] - 0s 4ms/step - loss: 5.8902e-05\n",
      "Epoch 60/100\n",
      "16/16 [==============================] - 0s 5ms/step - loss: 6.0235e-05\n",
      "Epoch 61/100\n",
      "16/16 [==============================] - 0s 4ms/step - loss: 5.8527e-05\n",
      "Epoch 62/100\n",
      "16/16 [==============================] - 0s 5ms/step - loss: 5.8272e-05\n",
      "Epoch 63/100\n",
      "16/16 [==============================] - 0s 4ms/step - loss: 5.7559e-05\n",
      "Epoch 64/100\n",
      "16/16 [==============================] - 0s 4ms/step - loss: 5.9642e-05\n",
      "Epoch 65/100\n",
      "16/16 [==============================] - 0s 4ms/step - loss: 5.8675e-05\n",
      "Epoch 66/100\n",
      "16/16 [==============================] - 0s 4ms/step - loss: 5.7522e-05\n",
      "Epoch 67/100\n",
      "16/16 [==============================] - 0s 4ms/step - loss: 5.7604e-05\n",
      "Epoch 68/100\n",
      "16/16 [==============================] - 0s 4ms/step - loss: 5.7304e-05\n",
      "Epoch 69/100\n",
      "16/16 [==============================] - 0s 4ms/step - loss: 5.6249e-05\n",
      "Epoch 70/100\n",
      "16/16 [==============================] - 0s 4ms/step - loss: 5.7398e-05\n",
      "Epoch 71/100\n",
      "16/16 [==============================] - 0s 4ms/step - loss: 6.0445e-05\n",
      "Epoch 72/100\n",
      "16/16 [==============================] - 0s 5ms/step - loss: 5.5575e-05\n",
      "Epoch 73/100\n",
      "16/16 [==============================] - 0s 4ms/step - loss: 5.5696e-05\n",
      "Epoch 74/100\n",
      "16/16 [==============================] - 0s 4ms/step - loss: 5.5897e-05\n",
      "Epoch 75/100\n",
      "16/16 [==============================] - 0s 4ms/step - loss: 5.5014e-05\n",
      "Epoch 76/100\n",
      "16/16 [==============================] - 0s 4ms/step - loss: 5.5509e-05\n",
      "Epoch 77/100\n",
      "16/16 [==============================] - 0s 4ms/step - loss: 5.4689e-05\n",
      "Epoch 78/100\n",
      "16/16 [==============================] - 0s 4ms/step - loss: 5.5835e-05\n",
      "Epoch 79/100\n",
      "16/16 [==============================] - 0s 4ms/step - loss: 5.4006e-05\n",
      "Epoch 80/100\n",
      "16/16 [==============================] - 0s 4ms/step - loss: 5.3893e-05\n",
      "Epoch 81/100\n",
      "16/16 [==============================] - 0s 5ms/step - loss: 5.3227e-05\n",
      "Epoch 82/100\n",
      "16/16 [==============================] - 0s 5ms/step - loss: 5.3766e-05\n",
      "Epoch 83/100\n",
      "16/16 [==============================] - 0s 4ms/step - loss: 5.3106e-05\n",
      "Epoch 84/100\n",
      "16/16 [==============================] - 0s 4ms/step - loss: 5.3124e-05\n",
      "Epoch 85/100\n",
      "16/16 [==============================] - 0s 4ms/step - loss: 5.2844e-05\n",
      "Epoch 86/100\n",
      "16/16 [==============================] - 0s 4ms/step - loss: 5.2475e-05\n",
      "Epoch 87/100\n",
      "16/16 [==============================] - 0s 4ms/step - loss: 5.2442e-05\n",
      "Epoch 88/100\n",
      "16/16 [==============================] - 0s 4ms/step - loss: 5.1742e-05\n",
      "Epoch 89/100\n",
      "16/16 [==============================] - 0s 4ms/step - loss: 5.2671e-05\n",
      "Epoch 90/100\n",
      "16/16 [==============================] - 0s 4ms/step - loss: 5.4776e-05\n",
      "Epoch 91/100\n",
      "16/16 [==============================] - 0s 4ms/step - loss: 5.2123e-05\n",
      "Epoch 92/100\n",
      "16/16 [==============================] - 0s 4ms/step - loss: 5.0550e-05\n",
      "Epoch 93/100\n",
      "16/16 [==============================] - 0s 4ms/step - loss: 5.1136e-05\n",
      "Epoch 94/100\n",
      "16/16 [==============================] - 0s 4ms/step - loss: 5.1820e-05\n",
      "Epoch 95/100\n",
      "16/16 [==============================] - 0s 4ms/step - loss: 5.0584e-05\n",
      "Epoch 96/100\n",
      "16/16 [==============================] - 0s 5ms/step - loss: 5.0521e-05\n",
      "Epoch 97/100\n"
     ]
    },
    {
     "name": "stdout",
     "output_type": "stream",
     "text": [
      "16/16 [==============================] - 0s 4ms/step - loss: 5.0806e-05\n",
      "Epoch 98/100\n",
      "16/16 [==============================] - 0s 4ms/step - loss: 5.0095e-05\n",
      "Epoch 99/100\n",
      "16/16 [==============================] - 0s 4ms/step - loss: 5.2018e-05\n",
      "Epoch 100/100\n",
      "16/16 [==============================] - 0s 5ms/step - loss: 4.8971e-05\n"
     ]
    },
    {
     "data": {
      "text/plain": [
       "<keras.callbacks.History at 0x2269e45f160>"
      ]
     },
     "execution_count": 12,
     "metadata": {},
     "output_type": "execute_result"
    }
   ],
   "source": [
    "model.fit(X_train, Y_train, batch_size = 128, epochs = 100)"
   ]
  },
  {
   "cell_type": "code",
   "execution_count": 14,
   "metadata": {},
   "outputs": [],
   "source": [
    "predictions = model.predict(X_test)"
   ]
  },
  {
   "cell_type": "code",
   "execution_count": 17,
   "metadata": {},
   "outputs": [
    {
     "data": {
      "image/png": "[encoded data removed]",
      "text/plain": [
       "<Figure size 432x288 with 1 Axes>"
      ]
     },
     "metadata": {
      "needs_background": "light"
     },
     "output_type": "display_data"
    }
   ],
   "source": [
    "x_label = np.arange(0,predictions.shape[0],1)\n",
    "plt.plot(x_label, predictions[:predictions.shape[0]], '-b', x_label, Y_test[:predictions.shape[0]], '-r')\n",
    "plt.show()"
   ]
  },
  {
   "cell_type": "markdown",
   "metadata": {},
   "source": [
    "# Training Using Pytorch"
   ]
  },
  {
   "cell_type": "code",
   "execution_count": 52,
   "metadata": {},
   "outputs": [],
   "source": [
    "import torch\n",
    "import math"
   ]
  },
  {
   "cell_type": "code",
   "execution_count": 53,
   "metadata": {},
   "outputs": [],
   "source": [
    "model = torch.nn.Sequential(\n",
    "    torch.nn.Linear(4, 32),\n",
    "    torch.nn.Linear(32, 10),\n",
    "    torch.nn.Linear(10, 1),\n",
    ")"
   ]
  },
  {
   "cell_type": "code",
   "execution_count": 54,
   "metadata": {},
   "outputs": [],
   "source": [
    "loss_fn = torch.nn.MSELoss(reduction='sum')\n",
    "learning_rate = 1e-6"
   ]
  },
  {
   "cell_type": "code",
   "execution_count": 61,
   "metadata": {},
   "outputs": [
    {
     "name": "stdout",
     "output_type": "stream",
     "text": [
      "torch.Size([1973, 4])\n",
      "torch.Size([1973, 1])\n"
     ]
    }
   ],
   "source": [
    "xx = torch.from_numpy(X_train.values)\n",
    "yy = torch.from_numpy(Y_train.values)\n",
    "print(xx.shape)\n",
    "print(yy.shape)"
   ]
  },
  {
   "cell_type": "code",
   "execution_count": 62,
   "metadata": {},
   "outputs": [],
   "source": [
    "xx = xx.to(torch.float32)\n",
    "yy = yy.to(torch.float32)"
   ]
  },
  {
   "cell_type": "code",
   "execution_count": 63,
   "metadata": {},
   "outputs": [
    {
     "name": "stdout",
     "output_type": "stream",
     "text": [
      "99 0.17403262853622437\n",
      "199 0.1740177571773529\n",
      "299 0.17400355637073517\n",
      "399 0.17398971319198608\n",
      "499 0.173976331949234\n",
      "599 0.17396345734596252\n",
      "699 0.1739508956670761\n",
      "799 0.17393872141838074\n",
      "899 0.17392678558826447\n",
      "999 0.17391498386859894\n",
      "1099 0.17390334606170654\n",
      "1199 0.1738920360803604\n",
      "1299 0.17388084530830383\n",
      "1399 0.17386983335018158\n",
      "1499 0.17385883629322052\n",
      "1599 0.173847958445549\n",
      "1699 0.17383712530136108\n",
      "1799 0.1738264113664627\n",
      "1899 0.1738157421350479\n",
      "1999 0.1738051474094391\n"
     ]
    }
   ],
   "source": [
    "for t in range(2000):\n",
    "    y_pred = model(xx)\n",
    "\n",
    "    loss = loss_fn(y_pred, yy)\n",
    "    if t % 100 == 99:\n",
    "        print(t, loss.item())\n",
    "\n",
    "    model.zero_grad()\n",
    "\n",
    "    loss.backward()\n",
    "\n",
    "    with torch.no_grad():\n",
    "        for param in model.parameters():\n",
    "            param -= learning_rate * param.grad"
   ]
  },
  {
   "cell_type": "code",
   "execution_count": 65,
   "metadata": {},
   "outputs": [
    {
     "name": "stdout",
     "output_type": "stream",
     "text": [
      "torch.Size([494, 4])\n",
      "torch.Size([494, 1])\n"
     ]
    }
   ],
   "source": [
    "x_test = torch.from_numpy(X_test.values)\n",
    "y_test = torch.from_numpy(Y_test.values)\n",
    "x_test = x_test.to(torch.float32)\n",
    "y_test = y_test.to(torch.float32)\n",
    "print(x_test.shape)\n",
    "print(y_test.shape)"
   ]
  },
  {
   "cell_type": "code",
   "execution_count": 66,
   "metadata": {},
   "outputs": [],
   "source": [
    "y_pred_test = model(x_test)"
   ]
  },
  {
   "cell_type": "code",
   "execution_count": 67,
   "metadata": {},
   "outputs": [],
   "source": [
    "y_test = y_test.detach().numpy()\n",
    "y_pred_test = y_pred_test.detach().numpy()"
   ]
  },
  {
   "cell_type": "code",
   "execution_count": 69,
   "metadata": {},
   "outputs": [
    {
     "data": {
      "image/png": "[encoded data removed]",
      "text/plain": [
       "<Figure size 432x288 with 1 Axes>"
      ]
     },
     "metadata": {
      "needs_background": "light"
     },
     "output_type": "display_data"
    }
   ],
   "source": [
    "x_label = np.arange(0,y_pred_test.shape[0],1)\n",
    "plt.plot(x_label, y_pred_test[:y_pred_test.shape[0]], '-b', x_label, y_test[:y_pred_test.shape[0]], '-r')\n",
    "plt.show()"
   ]
  },
  {
   "cell_type": "code",
   "execution_count": null,
   "metadata": {},
   "outputs": [],
   "source": []
  },
  {
   "cell_type": "code",
   "execution_count": null,
   "metadata": {},
   "outputs": [],
   "source": []
  }
 ],
 "metadata": {
  "kernelspec": {
   "display_name": "Python 3",
   "language": "python",
   "name": "python3"
  },
  "language_info": {
   "codemirror_mode": {
    "name": "ipython",
    "version": 3
   },
   "file_extension": ".py",
   "mimetype": "text/x-python",
   "name": "python",
   "nbconvert_exporter": "python",
   "pygments_lexer": "ipython3",
   "version": "3.8.8"
  }
 },
 "nbformat": 4,
 "nbformat_minor": 2
}
